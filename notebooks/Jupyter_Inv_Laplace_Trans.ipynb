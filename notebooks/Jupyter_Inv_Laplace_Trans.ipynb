{
 "cells": [
  {
   "cell_type": "markdown",
   "id": "85816fb7",
   "metadata": {},
   "source": [
    " In this tutorial we will numerically evaluate inverse Laplace transforms\n",
    " sing 'invertlaplace()' in the mpmath module.\n",
    "\n",
    " nverse Laplace transforms are very useful  in electronics and are often\n",
    " sed to calculate the transient response of circuits.  Typically, one\n",
    " alculates the response of the circuit in the \"s = jw\" or complex-frequency\n",
    " omain using methods that a familiar from steady-state circuit analysis.\n",
    " hen one takes the inverse Laplace transform to that result to deduce\n",
    " he circuit's transient response.  In this tutorial, we demonstrate the\n",
    " ethode using two examples for which both the transient and s-domain \n",
    " esponses are already known."
   ]
  },
  {
   "cell_type": "code",
   "execution_count": 2,
   "id": "breeding-tuner",
   "metadata": {},
   "outputs": [],
   "source": [
    "# First import the modules that will be required.\n",
    "import mpmath as mp\n",
    "import numpy as np\n",
    "import matplotlib.pyplot as plt"
   ]
  },
  {
   "cell_type": "code",
   "execution_count": 3,
   "id": "essential-ordering",
   "metadata": {},
   "outputs": [],
   "source": [
    "# This line sets the number of decimal points (dps) to be used in calculations.\n",
    "# We will required mp.dps to be high in order to calculate precise transient \n",
    "# responses.\n",
    "mp.dps = 350"
   ]
  },
  {
   "cell_type": "markdown",
   "id": "0e15cd4f",
   "metadata": {},
   "source": [
    "The main function that we will use is 'mp.invertlaplace()'.  To execute,\n",
    "it requires the s-domain function fs that is to be transformed into the\n",
    "time domain and a single time.  In order to extract the full transient\n",
    "response, we define a function that passes times from a list one by one.\n",
    "The degree option determines the number of terms to be used in the approximations.\n",
    "The higher, the better the result and the longer the calculation takes.\n",
    "The 'if' statement is just used to print the progress of the calculation.\n",
    "By default, pnt = True and the progress will be printed in increments of\n",
    "10%."
   ]
  },
  {
   "cell_type": "code",
   "execution_count": null,
   "id": "599c4d4c",
   "metadata": {},
   "outputs": [],
   "source": [
    "def trans_response(tt, fs, deg, pnt = True):\n",
    "    trans = []\n",
    "    cnt = 0\n",
    "    for t in tt:    \n",
    "        if len(trans) % int(pts/10) == 0 and pnt == True:\n",
    "            print(cnt*10,'%', sep = '')\n",
    "            cnt += 1\n",
    "        trans += [mp.invertlaplace(fs, t, method = 'dehoog', degree = deg)]\n",
    "    return trans"
   ]
  },
  {
   "cell_type": "code",
   "execution_count": 5,
   "id": "center-incident",
   "metadata": {},
   "outputs": [],
   "source": [
    "# In the first example, the we will take the inverse Laplace transform of\n",
    "# e^(-c*s)/s which should result in a step at t = c.\n",
    "Vg = 2\n",
    "c = 0.5e-6\n",
    "fs = lambda s: Vg*mp.exp(-c*s)/s"
   ]
  },
  {
   "cell_type": "markdown",
   "id": "28b29030",
   "metadata": {},
   "source": [
    "We use a 'with' statement to temporarily reduce the dps for the first \n",
    "example within the indented block of code."
   ]
  },
  {
   "cell_type": "code",
   "execution_count": 6,
   "id": "electronic-rates",
   "metadata": {},
   "outputs": [
    {
     "name": "stdout",
     "output_type": "stream",
     "text": [
      "2021-03-11 10:31:16.021710\n",
      "0%\n",
      "10%\n",
      "20%\n",
      "30%\n",
      "40%\n",
      "50%\n",
      "60%\n",
      "70%\n",
      "80%\n",
      "90%\n",
      "2021-03-11 10:31:18.694646\n"
     ]
    },
    {
     "data": {
      "image/png": "[encoded data removed]",
      "text/plain": [
       "<Figure size 432x288 with 1 Axes>"
      ]
     },
     "metadata": {
      "needs_background": "light"
     },
     "output_type": "display_data"
    }
   ],
   "source": [
    "with mp.workdps(20):\n",
    "    # Here, we call the fucntion that we defined above and then plot the result.\n",
    "    from datetime import datetime\n",
    "    print(datetime.now())\n",
    "    pts = 100\n",
    "    tt = np.linspace(1e-10, 1e-6, pts)\n",
    "    plt.plot(tt, trans_response(tt, fs, 20), 'k.', markersize = 2)\n",
    "    print(datetime.now())"
   ]
  },
  {
   "cell_type": "markdown",
   "id": "injured-caribbean",
   "metadata": {},
   "source": [
    "This next example is the transient response of a coaxial cable to a \n",
    "voltage step.  The centre conductors of the coax at one end is connected\n",
    "to a resistor of resistance Rg and the voltage step of size Vg is applied to\n",
    "the opposite end of the Rg.  The free end of the coaxial cable is left open.\n",
    "The coaxial cable has a characteristic impedance of Z0 = 50 ohms and a \n",
    "length of 8 meters.\n"
   ]
  },
  {
   "cell_type": "code",
   "execution_count": null,
   "id": "81aa25da",
   "metadata": {},
   "outputs": [],
   "source": [
    "\n",
    "Vg = 1 # volt\n",
    "ell = 8 # meters\n",
    "v0 = 3e8/np.sqrt(2.1) # m/s\n",
    "Rg = 1e3 # ohms\n",
    "Z0 = 50 # ohms"
   ]
  },
  {
   "cell_type": "code",
   "execution_count": 8,
   "id": "silent-quebec",
   "metadata": {},
   "outputs": [],
   "source": [
    "# This is the s-domain response of the coax. \n",
    "fs = lambda s: (Vg/s)*mp.coth(s*ell/v0)/(Rg/Z0 + mp.coth(s*ell/v0))"
   ]
  },
  {
   "cell_type": "markdown",
   "id": "73e69b85",
   "metadata": {},
   "source": [
    " Here, we call our function with high 'dps' and 'degree' values and then\n",
    " plot the calculated transient response.  We expect to get a 'staircase'\n",
    " response with the size of the steps decreasing as time evolves.  This block\n",
    " of code took about 12 minutes to execute on my laptop.\n"
   ]
  },
  {
   "cell_type": "code",
   "execution_count": 9,
   "id": "pediatric-advocate",
   "metadata": {},
   "outputs": [
    {
     "name": "stdout",
     "output_type": "stream",
     "text": [
      "2021-03-11 10:33:31.172249\n",
      "0%\n",
      "10%\n",
      "20%\n",
      "30%\n",
      "40%\n",
      "50%\n",
      "60%\n",
      "70%\n",
      "80%\n",
      "90%\n",
      "2021-03-11 10:45:05.458700\n"
     ]
    },
    {
     "data": {
      "image/png": "[encoded data removed]",
      "text/plain": [
       "<Figure size 432x288 with 1 Axes>"
      ]
     },
     "metadata": {
      "needs_background": "light"
     },
     "output_type": "display_data"
    }
   ],
   "source": [
    "\n",
    "plt.figure()\n",
    "from datetime import datetime\n",
    "print(datetime.now())\n",
    "pts = 500\n",
    "tt = np.linspace(1e-10, 1e-6, pts)\n",
    "plt.plot(tt, trans_response(tt, fs, 150), 'k.', markersize = 2)\n",
    "print(datetime.now())"
   ]
  }
 ],
 "metadata": {
  "kernelspec": {
   "display_name": "Python 3",
   "language": "python",
   "name": "python3"
  },
  "language_info": {
   "codemirror_mode": {
    "name": "ipython",
    "version": 3
   },
   "file_extension": ".py",
   "mimetype": "text/x-python",
   "name": "python",
   "nbconvert_exporter": "python",
   "pygments_lexer": "ipython3",
   "version": "3.8.8"
  }
 },
 "nbformat": 4,
 "nbformat_minor": 5
}
