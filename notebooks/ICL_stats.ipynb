{
 "cells": [
  {
   "cell_type": "markdown",
   "metadata": {
    "editable": true,
    "slideshow": {
     "slide_type": ""
    },
    "tags": [
     "module-mm1",
     "module-nm",
     "module-dsml",
     "module-exstat"
    ]
   },
   "source": [
    "\n",
    "# Linear regression\n",
    "\n",
    "[primer-computational-mathematics.github.io/book/c_mathematics/](https://primer-computational-mathematics.github.io/book/c_mathematics/intro.html)\n"
   ]
  },
  {
   "cell_type": "markdown",
   "metadata": {},
   "source": [
    "\n",
    "## Theory\n"
   ]
  },
  {
   "cell_type": "markdown",
   "metadata": {},
   "source": [
    "\n",
    "Linearity refers to a linear relationship between two or more variables. Linear regression aims to predict the dependent variable value ($y$) based on a given independent variable ($x$). Therefore, linear regression finds out a linear relationship between $x$ and $y$.\n",
    "\n",
    "With noisy data or multiple different measurements of $y$ at a given value of $x$, we may not be able to fit a function/curve that goes through all points exactly. Therefore, in linear regresssion the aim is to find a function that best approximates the data but does not necessarily go through all the points.\n",
    "\n",
    "### Simple linear regression\n",
    "---\n",
    "Plotting the independent variable $x$ on the x-axis and dependent variable $y$ on the y-axis, linear regression gives us a straight line with equation:\n",
    "\n",
    "$$y=b_0+b_1x,$$\n",
    "\n",
    "where $b_0$ is the intercept and $b_1$ is the slope of the line. The $x$ and $y$ variables remain the same as the data points cannot change, however, the intercept ($b_0$) and slope ($b_1$) can be modified to obtain the most optimal value for the intercept and the slope. The linear regression algorithm fits multiple lines on the data points and returns the line that results in the smallest error. This may be achieved by minimising the sum of the squares of the differences to the data, known as a least squares approximation.\n",
    "\n",
    "[<img src=\"https://s3.amazonaws.com/acadgildsite/wordpress_images/Data+Science/2Linear+regression+Case+Study+2/blogs+LR+2+pic+1.png\" style=\"width:300px;\"/>](https://acadgild.com/blog/2linear-regression-case-study-2)\n",
    "\n",
    "Figure 1: Plot of scatter points in 2D space (blue) and line that results in the least error (red).\n",
    "\n",
    "### Multiple linear regression\n",
    "---\n",
    "\n",
    "This can be extended to multiple linear regression where there are more than two variables. In this scenario, the dependent variable is dependent upon several independent variables $x= (x_1, …, x_n)$ where $n$ is the number of variables. You can assume a linear relationship between $x$ and $y$ with the regression equation:\n",
    "\n",
    "$$y=b_0+b_1x_1+b_2x_2+b_3x_3+…b_nx_n +\\epsilon,$$\n",
    "\n",
    "where $b_0,b_1,...,b_n$ are the regression coefficients and $\\epsilon$ is the random error.\n",
    "\n",
    "### Root-mean-square error\n",
    "\n",
    "There are many methods to evaluate the performance of the linear regression algorithm. Two commonly used methods are the [root-mean-square error](https://en.wikipedia.org/wiki/Root-mean-square_deviation) (RMSE) and the [coefficient of determination](https://en.wikipedia.org/wiki/Coefficient_of_determination) ($R^2$ score).\n",
    "\n",
    "RMSE is the square root of the sum of all errors squared divided by the number of values. The equation for the RMSE is:\n",
    "\n",
    "$$RMSE=\\sqrt{\\frac{1}{n}\\sum_{i=1}^{n} (\\hat{y_i} - y_i)^2},$$\n",
    "\n",
    "where $\\hat{y_1}, \\hat{y_2}, ..., \\hat{y_n}$  are the predicted values, $y_1, y_2, ..., y_n$ are the observed values and $n$ is the number of observations.\n",
    "\n",
    "### Coefficient of determination\n",
    "\n",
    "The coefficient of determinaion is a statistical measure of how close the data are to the linear regression line.\n",
    "\n",
    "\n",
    "$$R^2 = \\frac{\\text{Explained variation}}{\\text{Total variation}}.$$\n",
    "\n",
    "\n",
    "$R^2$ is therefore always between 0 and 100%. The higher the $R^2$, the better the model fits the data. \n",
    "\n",
    "$R^2$ is defined as follows:\n",
    "\n",
    "$$R^2 = 1-\\frac{SS_r}{SS_t},\\\\\\\\\\\\\n",
    "SS_r=\\sum_{i=1}^{n} ({y_i} - \\hat{y_i})^2,\\\\\\\\\\\\\n",
    "SS_t=\\sum_{i=1}^{n} ({y_i} - \\bar{y_i})^2.$$\n",
    "\n",
    "\n",
    "$SS_r$ is the sum of squared regression and represents the variation explained by the linear regression model.\n",
    "\n",
    "$SS_t$ is the sum of squared yotal and represents the total variation in the data.\n",
    "\n",
    "$y_1, y_2, ..., y_n$ are the observed values, $\\hat{y_1}, \\hat{y_2}, ..., \\hat{y_n}$  are the predicted values of $y$, and $\\bar{y_1}, \\bar{y_2}, ..., \\bar{y_n}$ are the mean values of $y$.\n",
    "\n",
    "Based on the above equation the $R^2$ score usually ranges from 0 to 1, but can be negative if the model is completely wrong."
   ]
  },
  {
   "cell_type": "markdown",
   "metadata": {},
   "source": [
    "### Least  squares error calculation\n",
    "---\n",
    "\n",
    "Least squares fitting minimises the sum of the squares of the differences between the data provided and the polynomial approximation. In other words it minimises the folowing expression:\n",
    "\n",
    "\n",
    "$$E=\\sum_{i=0}^{N} (P(x_i) - y_i)^2,$$\n",
    "\n",
    "\n",
    "where $E$ is the squared error, $P(x_i)$ is the value of the polynomial function that has been fit to the data evaluated at point $x_i$, and $y_i$ is the $i^{th}$ data value.\n",
    "\n",
    "[<img src=\"https://upload.wikimedia.org/wikipedia/commons/thumb/b/b0/Linear_least_squares_example2.svg/440px-Linear_least_squares_example2.svg.png\" style=\"width:300px;\"/>](https://en.wikipedia.org/wiki/Linear_least_squares)\n",
    "\n",
    "Figure 2: A plot of the data points (red), the least squares line of best fit (blue), and the residuals (green).\n",
    "\n",
    "In this calulation we are computing the sum of the squares of the distances indicated in green in Figure 1.\n"
   ]
  },
  {
   "cell_type": "markdown",
   "metadata": {},
   "source": [
    "\n",
    "## Implementation of linear regression in Python\n",
    "### Simple example - submarine landslide size in the North Atlantic"
   ]
  },
  {
   "cell_type": "code",
   "execution_count": 1,
   "metadata": {
    "tags": [
     "hide_input"
    ]
   },
   "outputs": [],
   "source": [
    "# Some imports needed for linear regression in python\n",
    "\n",
    "%matplotlib inline\n",
    "import numpy as np\n",
    "import matplotlib.pyplot as plt\n",
    "import scipy.interpolate as si\n",
    "import scipy.stats as ss\n",
    "\n",
    "# Some default font sizes for plots\n",
    "plt.rcParams['font.size'] = 12\n",
    "plt.rcParams['font.family'] = 'sans-serif'\n",
    "plt.rcParams['font.sans-serif'] = ['Arial', 'Dejavu Sans']"
   ]
  },
  {
   "cell_type": "markdown",
   "metadata": {},
   "source": [
    "In this example we are attempting to fit a linear best fit line to the data `length_width.dat` in log-log space. This file contains the lengths and widths of submarine landslides in the North Atlantic basin from Fig. 7 in [Huhnerbach & Masson (2004)](https://www.sciencedirect.com/science/article/pii/S0025322704002774).\n",
    "\n",
    "Firstly, we will use `numpy.polyfit` in order to carry out the least squares error calculation to fit a linear polynomial. Next, we will use `scipy.stats.linregress` to perform linear regression using a [SciPy](https://www.scipy.org/) implementation of linear regression. Then, we will compare the slope and the intercept (the two coefficients in the linear polynomial) between the two approaches.\n",
    "\n",
    "The coefficient of determination is also determined by default from the linear regression calculation. To check these values agree we will also calculate the $R^2$ value using the `numpy.polyfit` data.\n",
    "\n",
    "Let's define a function to evaluate squared error:"
   ]
  },
  {
   "cell_type": "code",
   "execution_count": 2,
   "metadata": {},
   "outputs": [],
   "source": [
    "# Function to evaluate the squared error\n",
    "def sqr_error(p, xi, yi):\n",
    "    \n",
    "    \"\"\"\"Function to evaluate the sum of square of errors\"\"\"\n",
    "    \n",
    "    # Compute the square of the differences\n",
    "    diff2 = (p(xi)-yi)**2\n",
    "    \n",
    "    # Return their sum\n",
    "    return diff2.sum()"
   ]
  },
  {
   "cell_type": "markdown",
   "metadata": {},
   "source": [
    "Open a file and store data in arrays:"
   ]
  },
  {
   "cell_type": "code",
   "execution_count": 3,
   "metadata": {},
   "outputs": [],
   "source": [
    "file = open(\"length_width.dat\", 'r')\n",
    "\n",
    "xi = []\n",
    "yi = []\n",
    "\n",
    "for line in file:\n",
    "    xi.append(float(line.split()[0]))\n",
    "    yi.append(float(line.split()[1]))\n",
    "    \n",
    "xi = np.array(xi)\n",
    "yi = np.array(yi)"
   ]
  },
  {
   "cell_type": "markdown",
   "metadata": {},
   "source": [
    "Perform linear regression and plot the results:"
   ]
  },
  {
   "cell_type": "code",
   "execution_count": 4,
   "metadata": {
    "tags": [
     "hide-input"
    ]
   },
   "outputs": [
    {
     "name": "stdout",
     "output_type": "stream",
     "text": [
      "Lagrange polynomial coefficients = [1.0266104  0.37698383]\n",
      "R^2 value calculated from Lagrange polynomial fit to the data in log-log space = 0.5653751967433511\n",
      "\n",
      "Linear regression: slope, intercept, r_value = 1.02661040, 0.37698383, 0.75191435\n",
      "R^2 = 0.56537520\n"
     ]
    },
    {
     "data": {
      "image/png": "[encoded data removed]",
      "text/plain": [
       "<Figure size 504x504 with 1 Axes>"
      ]
     },
     "metadata": {
      "needs_background": "light"
     },
     "output_type": "display_data"
    }
   ],
   "source": [
    "# Set up figure\n",
    "fig, ax1 = plt.subplots(1, 1, figsize=(7, 7))\n",
    "\n",
    "# Plot the raw data\n",
    "ax1.loglog(xi, yi, 'ko')\n",
    "\n",
    "# Fit a linear line to the log of the data using numpy.polyfit\n",
    "logxi = np.log(xi)\n",
    "logyi = np.log(yi)\n",
    "poly_coeffs = np.polyfit(logxi, logyi, 1)\n",
    "\n",
    "# Construct the corresponding polynomial function from these coefficients\n",
    "p1 = np.poly1d(poly_coeffs)\n",
    "# print the polynomial coefficients to compare with regression\n",
    "print('Lagrange polynomial coefficients = {}'.format(poly_coeffs))\n",
    "\n",
    "#Calculate and print an R-squared value for this fit using the mathematical\n",
    "# definition from https://en.wikipedia.org/wiki/Coefficient_of_determination\n",
    "SS_res = sqr_error(p1, logxi, logyi)\n",
    "SS_tot = np.sum((np.mean(logyi) - logyi)**2)\n",
    "r2 = 1. - SS_res/SS_tot\n",
    "print('R^2 value calculated from Lagrange polynomial fit to the data in log-log space = {}\\n'.format(r2))\n",
    "\n",
    "# Only need two points to plot the regression\n",
    "x = np.linspace(min(xi), max(xi), 2)\n",
    "ax1.loglog(x, p1(x), 'b', label='$\\log(y) = $%.3f$\\,\\log(x) + $%.3f' %\n",
    "           (poly_coeffs[0], poly_coeffs[1]))\n",
    "ax1.legend(loc='best', fontsize=12)\n",
    "\n",
    "# Check values computed above against scipy's linear regression\n",
    "slope, intercept, r_value, p_value, std_err = ss.linregress(logxi, logyi)\n",
    "print('Linear regression: slope, intercept, r_value = {0:.8f}, {1:.8f}, {2:.8f}'\\\n",
    "      .format(slope, intercept, r_value))\n",
    "print('R^2 = {:.8f}'.format(r_value**2))\n",
    "\n",
    "ax1.set_title('Submarine landslide dimensions', fontsize=16)\n",
    "ax1.set_xlabel('Length [km]', fontsize=16)\n",
    "ax1.set_ylabel('Width [km]', fontsize=16)\n",
    "\n",
    "ax1.text(0.76, 0.05, 'R2 = %.6f' % r2, transform=ax1.transAxes)\n",
    "\n",
    "plt.show()"
   ]
  },
  {
   "cell_type": "markdown",
   "metadata": {},
   "source": [
    "### Polynomial curve fitting\n",
    "\n",
    "Curve fitting is popular to use for datasets containing noise. To fit these curves of varying polynomial degree we can again use the least squares error calculation.\n",
    "\n",
    "Using `numpy.polyfit` we can fit curves of varying polynomial degree to the data points. This is demonstrated below."
   ]
  },
  {
   "cell_type": "code",
   "execution_count": 5,
   "metadata": {},
   "outputs": [
    {
     "name": "stdout",
     "output_type": "stream",
     "text": [
      "poly_coeffs = \n",
      "[[ 0.5         0.          0.          0.          0.          0.        ]\n",
      " [ 0.0508044   0.26714649  0.          0.          0.          0.        ]\n",
      " [ 0.02013603 -0.13983999  0.55279339  0.          0.          0.        ]\n",
      " [-0.00552147  0.09889271 -0.43193108  0.75909819  0.          0.        ]\n",
      " [-0.00420655  0.07403681 -0.38492428  0.59251888  0.27906056  0.        ]\n",
      " [-0.00301599  0.06536037 -0.49614427  1.59623195 -2.08266478  1.20030166]]\n"
     ]
    }
   ],
   "source": [
    "# Data points\n",
    "xi = np.array([0.5, 2.0, 4.0, 5.0, 7.0, 9.0])\n",
    "yi = np.array([0.5, 0.4, 0.3, 0.1, 0.9, 0.8])\n",
    "\n",
    "# Let's set up some space to store all the polynomial coefficients\n",
    "# there are some redundancies here, and we have assumed we will only \n",
    "# consider polynomials up to degree N\n",
    "N = 6\n",
    "poly_coeffs = np.zeros((N, N))\n",
    "\n",
    "for i in range(N):\n",
    "    poly_coeffs[i, :(i+1)] = np.polyfit(xi, yi, i)\n",
    "\n",
    "print('poly_coeffs = \\n{}'.format(poly_coeffs))"
   ]
  },
  {
   "cell_type": "code",
   "execution_count": 6,
   "metadata": {
    "tags": [
     "hide_input"
    ]
   },
   "outputs": [
    {
     "data": {
      "image/png": "[encoded data removed]",
      "text/plain": [
       "<Figure size 576x432 with 1 Axes>"
      ]
     },
     "metadata": {
      "needs_background": "light"
     },
     "output_type": "display_data"
    }
   ],
   "source": [
    "fig = plt.figure(figsize=(8, 6))\n",
    "ax1 = fig.add_subplot(111)\n",
    "ax1.margins(0.1)\n",
    "\n",
    "x = np.linspace(0.4, 9.1, 100)\n",
    "\n",
    "for i in range(N):\n",
    "    p = np.poly1d(poly_coeffs[i, :(i+1)])\n",
    "    ax1.plot(x, p(x), label='Degree %i' % i)\n",
    "\n",
    "ax1.plot(xi, yi, 'o', color=\"black\", label=\"raw data\")\n",
    "\n",
    "plt.legend(loc='best', fontsize = 12)\n",
    "plt.title('Polynomial approximations of differing degree', fontsize=16)\n",
    "plt.grid(True)\n",
    "plt.xlabel(\"x\", fontsize=16)\n",
    "plt.ylabel(\"y\", fontsize=16)\n",
    "plt.show()"
   ]
  },
  {
   "cell_type": "markdown",
   "metadata": {},
   "source": [
    "Using the above function that evaluates the squared error, we can evaluate the error for each of the polynomials calculated above."
   ]
  },
  {
   "cell_type": "code",
   "execution_count": 7,
   "metadata": {},
   "outputs": [
    {
     "name": "stdout",
     "output_type": "stream",
     "text": [
      "Square of the difference between the data and the polynomial of degree 0 = 4.60000000e-01.\n",
      "Square of the difference between the data and the polynomial of degree 1 = 3.32988992e-01.\n",
      "Square of the difference between the data and the polynomial of degree 2 = 1.99478242e-01.\n",
      "Square of the difference between the data and the polynomial of degree 3 = 1.57303437e-01.\n",
      "Square of the difference between the data and the polynomial of degree 4 = 4.69232378e-02.\n",
      "Square of the difference between the data and the polynomial of degree 5 = 1.75525473e-26.\n"
     ]
    }
   ],
   "source": [
    "for i in range(N):\n",
    "    p = np.poly1d(poly_coeffs[i, :(i+1)])\n",
    "    print('Square of the difference between the data and the '\n",
    "          'polynomial of degree {0:1d} = {1:.8e}.'.format(i, sqr_error(p, xi, yi)))"
   ]
  },
  {
   "cell_type": "markdown",
   "metadata": {},
   "source": [
    "(stats_basic)=\n",
    "# Introduction to statistics for Geoscientists\n",
    "\n",
    "``` {index} Statistics: basics\n",
    "```\n",
    "\n",
    "*Statistics* is a study concerning the collection, organisation, analysis, interpretation and presentation of data. Statistics help with describing and analysing non-deterministic phenomena, i.e. ones that cannot be precisely predicted.\n",
    "\n",
    "*Population* is a group/set of items/events of interest in the study.\n",
    "\n",
    "A *sample* is a subset of population that we measure. Samples must be unbiased for reliable statistical analysis. Signor and Lipps (1982) for example showed that biased sampling in fossils can lead to wrong interpretations for extinctions due to discontinous fossil record in time and ranges of species in sediments.\n",
    "\n",
    "*Distribution* is the shape of a histogram. The most commonly known distribution is a normal distribution ('bell curve'). A normal (Gaussian) distribution is very powerful as it approximates many real-world distributions. Mathematically, normal distribution is described as:\n",
    "\n",
    "$$ f(x) = \\frac{1}{\\sqrt{2\\pi\\sigma^2}} e^{-\\frac{(x-\\mu)^2}{2\\sigma^2}}$$\n",
    "\n",
    "where $\\sigma$ is the standard deviation and $\\mu$ is the mean. It is often assumed that distributions will be normal in statistical methods. As an example, we can plot one using [scipy.stats](https://docs.scipy.org/doc/scipy/reference/stats.html).\n"
   ]
  },
  {
   "cell_type": "code",
   "execution_count": null,
   "metadata": {},
   "outputs": [],
   "source": [
    "from scipy import stats\n",
    "import matplotlib.pyplot as plt\n",
    "import numpy as np"
   ]
  },
  {
   "cell_type": "code",
   "execution_count": null,
   "metadata": {},
   "outputs": [
    {
     "data": {
      "image/png": "[encoded data removed]",
      "text/plain": [
       "<Figure size 432x288 with 1 Axes>"
      ]
     },
     "metadata": {},
     "output_type": "display_data"
    }
   ],
   "source": [
    "# Generate data with normal distribution\n",
    "x = stats.norm.rvs(size=10000)\n",
    "\n",
    "# Plot a histogram of the data\n",
    "plt.hist(x, 100, density=1)\n",
    "\n",
    "plt.xlabel(\"x\")\n",
    "plt.ylabel(\"density\")\n",
    "\n",
    "plt.show()"
   ]
  },
  {
   "cell_type": "markdown",
   "metadata": {},
   "source": [
    "## Averages\n",
    "\n",
    "_Average_ is a measure of central tendency, in colloquial language, it is a single number that represents a given population.\n",
    "\n",
    "_Mean_ (arithmetic mean) is calculated by summing up all values and dividing by the population size.\n",
    "\n",
    "_Median_ is the middle value for an ordered list of values.\n",
    "\n",
    "_Mode_ is most common value.\n",
    "\n",
    "Median and mean are commonly used as averages. Median may be a better representation for skewed distributions as it reduces the effect of outliers. Mode isn't really used that often.\n",
    "\n",
    "We can calculate this with numpy and scipy.stats in-built functions:"
   ]
  },
  {
   "cell_type": "code",
   "execution_count": null,
   "metadata": {},
   "outputs": [
    {
     "name": "stdout",
     "output_type": "stream",
     "text": [
      "Mean = 3.91.\n",
      "Median = 3.00.\n",
      "Mode = 1.00.\n"
     ]
    }
   ],
   "source": [
    "# Generate data\n",
    "x = np.array([1, 1, 1, 2, 5, 3, 4, 9, 7, 7, 3])\n",
    "\n",
    "print(\"Mean = %.2f.\" % np.mean(x))\n",
    "print(\"Median = %.2f.\" % np.median(x))\n",
    "mode, count = stats.mode(x)\n",
    "print(\"Mode = %.2f.\" % mode)"
   ]
  },
  {
   "cell_type": "markdown",
   "metadata": {},
   "source": [
    "### Measures of spread\n",
    "Knowing populations by their means and medians can be misleading. Therefore, we can use spread with numpy function\n",
    "\n",
    "    np.ptp()\n",
    "    \n",
    "to test samples."
   ]
  },
  {
   "cell_type": "code",
   "execution_count": null,
   "metadata": {},
   "outputs": [
    {
     "name": "stdout",
     "output_type": "stream",
     "text": [
      "Sample 1 mean = 0.00, median = 0.00, spread = 0.40.\n",
      "Sample 2 mean = 0.00, median = 0.00, spread = 4000.00.\n"
     ]
    }
   ],
   "source": [
    "sample1 = np.array([-0.2, -0.1, -0.1, 0.0, 0.0, 0.0 , 0.1 , 0.1 , 0.2])\n",
    "sample2 = np.array([-2000, -1000, 0, 1000, 2000])\n",
    "\n",
    "print (\"Sample 1 mean = %.2f, median = %.2f, spread = %.2f.\"\n",
    "       % (np.mean(sample1), np.median(sample1), np.ptp(sample1)))\n",
    "\n",
    "print (\"Sample 2 mean = %.2f, median = %.2f, spread = %.2f.\"\n",
    "       % (np.mean(sample2), np.median(sample2),np.ptp(sample2)))"
   ]
  },
  {
   "cell_type": "markdown",
   "metadata": {},
   "source": [
    "## Percentiles\n",
    "The nth percentile says that n% of the population are lower than given value.\n",
    "\n",
    "The four percentiles with their own names are:\n",
    "* 25th percentile - first quartile (Q1)\n",
    "* 50th percentile - second quartile (Q2)\n",
    "* 75th percentile - third quartile (Q3)\n",
    "* Interquartile - range between Q1 and Q2."
   ]
  },
  {
   "cell_type": "code",
   "execution_count": null,
   "metadata": {},
   "outputs": [
    {
     "data": {
      "image/png": "[encoded data removed]",
      "text/plain": [
       "<Figure size 432x288 with 1 Axes>"
      ]
     },
     "metadata": {},
     "output_type": "display_data"
    }
   ],
   "source": [
    "# Generate normal distribution\n",
    "mu, std = 0, 1\n",
    "xmin, xmax = [-4, 4]\n",
    "x = np.linspace(xmin, xmax, 100)\n",
    "p = stats.norm.pdf(x, mu, std)\n",
    "\n",
    "plt.plot(x, p, 'k')\n",
    "\n",
    "# Fill background\n",
    "plt.fill_between(x, 0, p, interpolate=True,\n",
    "                color=\"red\", label=\"IQ\")\n",
    "\n",
    "# Fill between values that are less than 25th percentile\n",
    "plt.fill_between(x, 0, p, interpolate=True,\n",
    "                 where=(x<=stats.norm.ppf(0.25)),\n",
    "                color=\"green\", label=\"Q1\")\n",
    "\n",
    "# Fill between values that are more than 75th percentile\n",
    "plt.fill_between(x, 0, p, interpolate=True,\n",
    "                 where=(x>=stats.norm.ppf(0.75)),\n",
    "                color=\"blue\", label=\"Q3\")\n",
    "plt.legend(loc=\"best\")\n",
    "\n",
    "plt.xlabel(\"x\")\n",
    "plt.ylabel(\"density\")\n",
    "\n",
    "plt.show()"
   ]
  },
  {
   "cell_type": "markdown",
   "metadata": {},
   "source": [
    "## Variance and standard deviation\n",
    "_Variance_ and _standard deviation_ are measures of spread. The sample variance is described as follows:\n",
    "\n",
    "$$ v = \\frac{1}{N-1} \\sum_{i=1}^{N} \\left( x_i - \\bar{x}\\right)^2 ,$$\n",
    "\n",
    "where $N$ is the number of measurements, $x_i$ is the individual measurement and $\\bar{x}$ is the sample mean. For population variance we can use $\\frac{1}{N}$, instead of $\\frac{1}{N-1}$. This corrects for bias in the estimation (Bessel's correction).\n",
    "\n",
    "The sample standard deviations is:\n",
    "\n",
    "$$\\sigma=\\sqrt{v},$$\n",
    "\n",
    "which is useful as it is in units of the measured samples.\n",
    "\n",
    "## Bivariant statistics\n",
    "\n",
    "_Bivariant statistics_ is when we analyse two variables to look for relationships.\n",
    "\n",
    "For example, let's load isotope data from ODP 806 site in Java, downloaded from [NOAA](https://www1.ncdc.noaa.gov/pub/data/paleo/contributions_by_author/berger1996/806isotp.txt) for a G.sacculifer foraminifera species."
   ]
  },
  {
   "cell_type": "code",
   "execution_count": null,
   "metadata": {},
   "outputs": [
    {
     "data": {
      "text/html": [
       "<div>\n",
       "<style scoped>\n",
       "    .dataframe tbody tr th:only-of-type {\n",
       "        vertical-align: middle;\n",
       "    }\n",
       "\n",
       "    .dataframe tbody tr th {\n",
       "        vertical-align: top;\n",
       "    }\n",
       "\n",
       "    .dataframe thead th {\n",
       "        text-align: right;\n",
       "    }\n",
       "</style>\n",
       "<table border=\"1\" class=\"dataframe\">\n",
       "  <thead>\n",
       "    <tr style=\"text-align: right;\">\n",
       "      <th></th>\n",
       "      <th>depth_1</th>\n",
       "      <th>depth_2</th>\n",
       "      <th>age</th>\n",
       "      <th>oxygen</th>\n",
       "      <th>carbon</th>\n",
       "    </tr>\n",
       "  </thead>\n",
       "  <tbody>\n",
       "    <tr>\n",
       "      <th>0</th>\n",
       "      <td>0.1</td>\n",
       "      <td>0.09</td>\n",
       "      <td>3.42</td>\n",
       "      <td>1.98</td>\n",
       "      <td>2.09</td>\n",
       "    </tr>\n",
       "    <tr>\n",
       "      <th>1</th>\n",
       "      <td>0.2</td>\n",
       "      <td>0.19</td>\n",
       "      <td>6.94</td>\n",
       "      <td>1.86</td>\n",
       "      <td>1.93</td>\n",
       "    </tr>\n",
       "    <tr>\n",
       "      <th>2</th>\n",
       "      <td>0.3</td>\n",
       "      <td>0.28</td>\n",
       "      <td>10.61</td>\n",
       "      <td>1.68</td>\n",
       "      <td>1.60</td>\n",
       "    </tr>\n",
       "    <tr>\n",
       "      <th>3</th>\n",
       "      <td>0.4</td>\n",
       "      <td>0.38</td>\n",
       "      <td>14.63</td>\n",
       "      <td>1.48</td>\n",
       "      <td>1.91</td>\n",
       "    </tr>\n",
       "    <tr>\n",
       "      <th>4</th>\n",
       "      <td>0.5</td>\n",
       "      <td>0.47</td>\n",
       "      <td>18.90</td>\n",
       "      <td>0.85</td>\n",
       "      <td>1.92</td>\n",
       "    </tr>\n",
       "  </tbody>\n",
       "</table>\n",
       "</div>"
      ],
      "text/plain": [
       "   depth_1  depth_2    age  oxygen  carbon\n",
       "0      0.1     0.09   3.42    1.98    2.09\n",
       "1      0.2     0.19   6.94    1.86    1.93\n",
       "2      0.3     0.28  10.61    1.68    1.60\n",
       "3      0.4     0.38  14.63    1.48    1.91\n",
       "4      0.5     0.47  18.90    0.85    1.92"
      ]
     },
     "metadata": {},
     "output_type": "display_data"
    }
   ],
   "source": [
    "import pandas as pd\n",
    "\n",
    "odp_data = pd.read_csv('data/odp_806_data.csv')\n",
    "\n",
    "odp_data.head()"
   ]
  },
  {
   "cell_type": "code",
   "execution_count": null,
   "metadata": {},
   "outputs": [
    {
     "data": {
      "image/png": "[encoded data removed]",
      "text/plain": [
       "<Figure size 504x360 with 1 Axes>"
      ]
     },
     "metadata": {},
     "output_type": "display_data"
    }
   ],
   "source": [
    "plt.figure(figsize=(7,5))\n",
    "\n",
    "plt.plot(odp_data.age, odp_data.carbon, label=\"$\\delta^{13}C$\",\n",
    "        c=\"magenta\")\n",
    "plt.plot(odp_data.age, odp_data.oxygen, label=\"$\\delta^{18}O$\",\n",
    "        c=\"green\")\n",
    "\n",
    "plt.ylabel(\"$\\delta^{13}C$/$\\delta^{18}O$ (‰)\")\n",
    "plt.xlabel(\"Age (kyr)\")\n",
    "\n",
    "plt.legend(loc=\"best\")\n",
    "plt.show()"
   ]
  },
  {
   "cell_type": "markdown",
   "metadata": {},
   "source": [
    "We can see that throughout past 800,000 years the oxygen isotope data and carbon isotope data is correlated. Let's plot them against each other:"
   ]
  },
  {
   "cell_type": "code",
   "execution_count": null,
   "metadata": {},
   "outputs": [
    {
     "data": {
      "image/png": "[encoded data removed]",
      "text/plain": [
       "<Figure size 360x360 with 1 Axes>"
      ]
     },
     "metadata": {},
     "output_type": "display_data"
    }
   ],
   "source": [
    "plt.figure(figsize=(5,5))\n",
    "\n",
    "plt.scatter(odp_data.oxygen, odp_data.carbon, label=\"$\\delta^{13}C$\",\n",
    "           c=\"white\", edgecolor=\"magenta\")\n",
    "\n",
    "plt.ylabel(\"$\\delta^{13}C$ (‰)\")\n",
    "plt.xlabel(\"$\\delta^{18}O$ (‰)\")\n",
    "\n",
    "plt.xlim(0,2.5)\n",
    "plt.ylim(0,2.5)\n",
    "\n",
    "plt.show()"
   ]
  },
  {
   "cell_type": "markdown",
   "metadata": {},
   "source": [
    "The data is quite scattered but the general trend is that with increased carbon isotope content we observe increased oxygen content. Linear regression can help to mathematically find, whether these to are correlated at all.\n"
   ]
  },
  {
   "cell_type": "markdown",
   "metadata": {},
   "source": [
    "\n",
    "## Linear regression\n",
    "Linear regression can help us determine whether there is relationship between two parameters. Most commonly used technique to fit a line into data is least squares regression that minimises the sum of squares of vertical errors. In Python, we can use:\n",
    "\n",
    "    scipy.stats.linregress(x, y)\n",
    "\n",
    "that returns slope $m$ and intercept $c$ for line equation $y=mx+c$. It also returns correlation coefficient _rvalue_, two-sided _p-value_ for hypothesis if slope is zero and _stderrr_, the standard error of estimated gradient. The meaning _p-value_ is explained more in section on Inferential Statistics.\n"
   ]
  },
  {
   "cell_type": "markdown",
   "metadata": {},
   "source": [
    "\n",
    "### Correlation coefficients\n"
   ]
  },
  {
   "cell_type": "markdown",
   "metadata": {},
   "source": [
    "\n",
    "\n",
    "The correlation coefficient can be used to determine how well two samples are correlated.\n",
    "\n",
    "| r-value |      Interpretation          |\n",
    "|---------|------------------------------|\n",
    "| -1      | Perfect negative correlation |\n",
    "| -0.7    | Strong negative correlation  |\n",
    "| -0.5    | Moderate negative correlation|\n",
    "| -0.3    | Weak negative correlation    |\n",
    "| 0       | No correlation               |\n",
    "| 0.3     | Weak correlation             |\n",
    "| 0.5     | Moderate correlation         |\n",
    "| 0.7     | Strong correlation           |\n",
    "| 1       | Perfect correlation          |\n",
    "\n",
    "Scipy has a range of correlation coefficients. Most common is **Pearson r-value**:\n",
    "\n",
    "    scipy.stats.pearsonr(x, y)\n",
    "    \n",
    "This coefficient is calculated according to:\n",
    "\n",
    "$$ r = \\frac{\\sum (x-m_x)(y-m_y)}{\\sqrt{\\sum (x-m_x)^2 \\sum (y-m_y)^2}},$$\n",
    "\n",
    "where $m_x$ and $m_y$ are mean values for $x$ and $y$ vectors. You can read more about it [here](https://docs.scipy.org/doc/scipy/reference/generated/scipy.stats.pearsonr.html#scipy.stats.pearsonr).\n",
    "\n",
    "Pearson correlation coefficient assumes that two datasets are **normally distributed**. That is not always the case, therefore, **Spearman's rank correlation coefficient** can be used for _non-parametric_ correlation (assuming no specific distribution). You can call it using:\n",
    "\n",
    "    scipy.stats.spearmanr(x, y)\n",
    "\n",
    "\n",
    "Exercise\n",
    "Let's fit a line into the oxygen and carbon isotope data and find how well these two correlate:"
   ]
  },
  {
   "cell_type": "code",
   "execution_count": null,
   "metadata": {},
   "outputs": [
    {
     "name": "stdout",
     "output_type": "stream",
     "text": [
      "Slope = 0.15.\n",
      "Intercept = 1.52.\n",
      "Correlation coefficient = 0.21.\n",
      "P-value = 0.01.\n",
      "Standard error = 0.06.\n",
      "Pearson r = 0.21.\n",
      "Spearman r = 0.20.\n"
     ]
    }
   ],
   "source": [
    "# Create x values for line plotting\n",
    "x = np.linspace(np.min(odp_data.oxygen), np.max(odp_data.oxygen), 100)\n",
    "\n",
    "# Fit a line\n",
    "slope, intercept, r_value, p_value, stderr = stats.linregress(odp_data.oxygen, odp_data.carbon)\n",
    "\n",
    "print(\"Slope = %.2f.\" % slope)\n",
    "print(\"Intercept = %.2f.\" % intercept)\n",
    "print(\"Correlation coefficient = %.2f.\" % r_value)\n",
    "print(\"P-value = %.2f.\" % p_value)\n",
    "print(\"Standard error = %.2f.\" % stderr)\n",
    "\n",
    "pearson_r, pearson_p = stats.pearsonr(odp_data.oxygen, odp_data.carbon)\n",
    "spearman_r, spearman_p = stats.spearmanr(odp_data.oxygen, odp_data.carbon)\n",
    "\n",
    "print(\"Pearson r = %.2f.\" % pearson_r)\n",
    "print(\"Spearman r = %.2f.\" % spearman_r)"
   ]
  },
  {
   "cell_type": "code",
   "execution_count": null,
   "metadata": {},
   "outputs": [
    {
     "data": {
      "image/png": "[encoded data removed]",
      "text/plain": [
       "<Figure size 360x360 with 1 Axes>"
      ]
     },
     "metadata": {},
     "output_type": "display_data"
    }
   ],
   "source": [
    "# Create a plot\n",
    "plt.figure(figsize=(5,5))\n",
    "\n",
    "plt.scatter(odp_data.oxygen, odp_data.carbon, label=\"$\\delta^{13}C$\",\n",
    "           c=\"white\", edgecolor=\"magenta\")\n",
    "\n",
    "plt.plot(x, slope*x+intercept, color=\"black\", lw=2)\n",
    "\n",
    "plt.ylabel(\"$\\delta^{13}C$ (‰)\")\n",
    "plt.xlabel(\"$\\delta^{18}O$ (‰)\")\n",
    "\n",
    "plt.xlim(0,2.5)\n",
    "plt.ylim(0,2.5)\n",
    "\n",
    "plt.show()"
   ]
  },
  {
   "cell_type": "markdown",
   "metadata": {},
   "source": [
    "As expected, our data is quite scattered and correlation coefficient is $< 0.3$, meaning there is very weak correlation. Let's generate some random data and fit a line:"
   ]
  },
  {
   "cell_type": "code",
   "execution_count": null,
   "metadata": {},
   "outputs": [
    {
     "name": "stdout",
     "output_type": "stream",
     "text": [
      "Slope = -2.10.\n",
      "Intercept = 0.58.\n",
      "Correlation coefficient = -0.89.\n",
      "P-value = 0.00.\n",
      "Standard error = 0.16.\n",
      "Pearson r = -0.89.\n",
      "Spearman r = -0.88.\n"
     ]
    }
   ],
   "source": [
    "# Create random data\n",
    "np.random.seed(20202020)\n",
    "x = np.random.random(50)\n",
    "y = -2*x + np.random.random(50)\n",
    "\n",
    "# Create equally space data for fitted line\n",
    "xx = np.linspace(np.min(x), np.max(x), 100)\n",
    "\n",
    "# Fit a line\n",
    "slope, intercept, r_value, p_value, stderr = stats.linregress(x, y)\n",
    "\n",
    "print(\"Slope = %.2f.\" % slope)\n",
    "print(\"Intercept = %.2f.\" % intercept)\n",
    "print(\"Correlation coefficient = %.2f.\" % r_value)\n",
    "print(\"P-value = %.2f.\" % p_value)\n",
    "print(\"Standard error = %.2f.\" % stderr)\n",
    "\n",
    "pearson_r, pearson_p = stats.pearsonr(x, y)\n",
    "spearman_r, spearman_p = stats.spearmanr(x, y)\n",
    "\n",
    "print(\"Pearson r = %.2f.\" % pearson_r)\n",
    "print(\"Spearman r = %.2f.\" % spearman_r)"
   ]
  },
  {
   "cell_type": "code",
   "execution_count": null,
   "metadata": {},
   "outputs": [
    {
     "data": {
      "image/png": "[encoded data removed]",
      "text/plain": [
       "<Figure size 360x360 with 1 Axes>"
      ]
     },
     "metadata": {},
     "output_type": "display_data"
    }
   ],
   "source": [
    "# Create a plot\n",
    "plt.figure(figsize=(5,5))\n",
    "\n",
    "plt.scatter(x, y, label=\"$\\delta^{13}C$\",\n",
    "           c=\"white\", edgecolor=\"magenta\")\n",
    "\n",
    "plt.plot(xx, slope*xx+intercept, color=\"black\", lw=2)\n",
    "\n",
    "plt.ylabel(\"x\")\n",
    "plt.xlabel(\"y\")\n",
    "\n",
    "plt.show()"
   ]
  },
  {
   "cell_type": "markdown",
   "metadata": {},
   "source": [
    "This time data shows strong negative correlation.\n"
   ]
  },
  {
   "cell_type": "markdown",
   "metadata": {},
   "source": [
    "\n",
    "## Inferential statistics\n"
   ]
  },
  {
   "cell_type": "markdown",
   "metadata": {},
   "source": [
    "\n",
    "_Inferential statistics_ aims to infer properties of data based on hypotheses testing. Hypotheses will test probability. \n",
    "\n",
    "*Probability* $p$ describes how likely an event is to occur. It ranges between $(0,1)$, where $p=0$ implies that event will never occur and $p=1$ means that the event will always occur.\n",
    "\n",
    "### Hypotheses\n"
   ]
  },
  {
   "cell_type": "markdown",
   "metadata": {},
   "source": [
    "\n",
    "We can formulate two hypotheses - the _null hypothesis_ (H0) and an _alternative hypothesis_ (H1). We will only accept H1, if it is very unlikely for H0 to explain our results.\n",
    "\n",
    "For example, we have grain sizes for samples A and B, where sample A has higher mean:\n",
    "* H0 - There is no difference in mean grain size between A and B.\n",
    "* H1 - Mean grain size is higher in sample A than B.\n",
    "\n",
    "### Student's T-test\n",
    "\n",
    "Different test types are available. For example, we can use Student's T-test to check the probability for two samples to have the same underlying mean. Scipy provides:\n",
    "\n",
    "    scipy.stats.ttest_ind(a, b)\n",
    "\n",
    "This test will return _t-statistic_ which describes how the means are different from one another and _p-value_, the probability of null hypothesis being true.\n",
    "\n",
    "We can use this test on some randomly generated data with normal distributions."
   ]
  },
  {
   "cell_type": "code",
   "execution_count": null,
   "metadata": {},
   "outputs": [
    {
     "name": "stdout",
     "output_type": "stream",
     "text": [
      "t-statistic = 0.77.\n",
      "p-value = 0.44.\n"
     ]
    }
   ],
   "source": [
    "# Generate data that will have the same mean\n",
    "a = stats.norm.rvs(size=100000, random_state=12345)\n",
    "b = stats.norm.rvs(size=100000, random_state=67890)\n",
    "\n",
    "# Use Student's T-test\n",
    "t_statistic, p_value = stats.ttest_ind(a, b)\n",
    "print (\"t-statistic = %.2f.\" % t_statistic)\n",
    "print (\"p-value = %.2f.\" % p_value)"
   ]
  },
  {
   "cell_type": "markdown",
   "metadata": {},
   "source": [
    "If observed p-value is $>0.05$ or $0.10$, we cannot reject the null hypothesis. The threshold is arbitrary, $p = 0.05$ is just most commonly used.\n",
    "\n",
    "T-test is commonly used but it is not always appropriate to use:\n",
    "* Assumes normally distributed samples\n",
    "* Needs a large sample size to give sensible results\n",
    "\n",
    "\n",
    "### Tails\n",
    "Instead of testing how different the means are, we could test whether the mean of A is greater than the mean of B. For that we can use _one-tailed_ test.\n",
    "\n",
    "Alternatively, we can take a two-tailed test to find whether mean of A is higher or lower than mean of B. \n",
    "\n",
    "When using scipy.stats tests, make sure you check whether it is a one-tailed or two-tailed test!\n",
    "\n",
    "### Non-parametric tests\n",
    "\n",
    "Tests that don't require data to be normally distributed are for example, the [Mann-Whitney](https://docs.scipy.org/doc/scipy/reference/generated/scipy.stats.mannwhitneyu.html#scipy.stats.mannwhitneyu) rank test and \n",
    "[Kolmogorow-Smirnov test](https://docs.scipy.org/doc/scipy/reference/generated/scipy.stats.mannwhitneyu.html#scipy.stats.mannwhitneyu) for goodness of fit. Two-sample K-S test can be used as an alternative to the t-test. It answers the question whether samples come from the same underlying population.\n",
    "\n",
    "### Testing for normal distribution\n",
    "\n",
    "We can test data with hypotheses:\n",
    "* H0 - underlying distribution is normal\n",
    "* H1 - underlying distibution is not normal\n",
    "\n",
    "Scipy provides:\n",
    "    \n",
    "    scipy.stats.normaltest()\n",
    "It tests the null hypothesis if a sample comes from a normal distribution. We can test earthquake depth and magnitude data from New Zealand whether they come from normal distribution:"
   ]
  },
  {
   "cell_type": "code",
   "execution_count": null,
   "metadata": {},
   "outputs": [
    {
     "data": {
      "text/html": [
       "<div>\n",
       "<style scoped>\n",
       "    .dataframe tbody tr th:only-of-type {\n",
       "        vertical-align: middle;\n",
       "    }\n",
       "\n",
       "    .dataframe tbody tr th {\n",
       "        vertical-align: top;\n",
       "    }\n",
       "\n",
       "    .dataframe thead th {\n",
       "        text-align: right;\n",
       "    }\n",
       "</style>\n",
       "<table border=\"1\" class=\"dataframe\">\n",
       "  <thead>\n",
       "    <tr style=\"text-align: right;\">\n",
       "      <th></th>\n",
       "      <th>year</th>\n",
       "      <th>month</th>\n",
       "      <th>day</th>\n",
       "      <th>utc_time</th>\n",
       "      <th>mag</th>\n",
       "      <th>lat</th>\n",
       "      <th>lon</th>\n",
       "      <th>depth_km</th>\n",
       "      <th>region</th>\n",
       "      <th>iris_id</th>\n",
       "      <th>timestamp</th>\n",
       "    </tr>\n",
       "  </thead>\n",
       "  <tbody>\n",
       "    <tr>\n",
       "      <th>0</th>\n",
       "      <td>2009</td>\n",
       "      <td>7</td>\n",
       "      <td>15</td>\n",
       "      <td>09:22:31</td>\n",
       "      <td>7.8</td>\n",
       "      <td>-45.8339</td>\n",
       "      <td>166.6363</td>\n",
       "      <td>20.9</td>\n",
       "      <td>OFF W. COAST OF S. ISLAND, N.Z.</td>\n",
       "      <td>2871698</td>\n",
       "      <td>1247649751</td>\n",
       "    </tr>\n",
       "    <tr>\n",
       "      <th>1</th>\n",
       "      <td>2016</td>\n",
       "      <td>11</td>\n",
       "      <td>13</td>\n",
       "      <td>11:02:59</td>\n",
       "      <td>7.8</td>\n",
       "      <td>-42.7245</td>\n",
       "      <td>173.0647</td>\n",
       "      <td>22.0</td>\n",
       "      <td>SOUTH ISLAND, NEW ZEALAND</td>\n",
       "      <td>5197722</td>\n",
       "      <td>1479034979</td>\n",
       "    </tr>\n",
       "    <tr>\n",
       "      <th>2</th>\n",
       "      <td>2003</td>\n",
       "      <td>8</td>\n",
       "      <td>21</td>\n",
       "      <td>12:12:47</td>\n",
       "      <td>7.2</td>\n",
       "      <td>-45.0875</td>\n",
       "      <td>167.0892</td>\n",
       "      <td>6.8</td>\n",
       "      <td>SOUTH ISLAND, NEW ZEALAND</td>\n",
       "      <td>1628007</td>\n",
       "      <td>1061467967</td>\n",
       "    </tr>\n",
       "    <tr>\n",
       "      <th>3</th>\n",
       "      <td>2001</td>\n",
       "      <td>8</td>\n",
       "      <td>21</td>\n",
       "      <td>06:52:06</td>\n",
       "      <td>7.1</td>\n",
       "      <td>-36.8010</td>\n",
       "      <td>-179.7230</td>\n",
       "      <td>33.5</td>\n",
       "      <td>EAST OF NORTH ISLAND, N.Z.</td>\n",
       "      <td>1169374</td>\n",
       "      <td>998376726</td>\n",
       "    </tr>\n",
       "    <tr>\n",
       "      <th>4</th>\n",
       "      <td>2004</td>\n",
       "      <td>11</td>\n",
       "      <td>22</td>\n",
       "      <td>20:26:23</td>\n",
       "      <td>7.1</td>\n",
       "      <td>-46.4964</td>\n",
       "      <td>164.8273</td>\n",
       "      <td>7.6</td>\n",
       "      <td>OFF W. COAST OF S. ISLAND, N.Z.</td>\n",
       "      <td>1888053</td>\n",
       "      <td>1101155183</td>\n",
       "    </tr>\n",
       "  </tbody>\n",
       "</table>\n",
       "</div>"
      ],
      "text/plain": [
       "   year  month  day  utc_time  mag      lat       lon  depth_km  \\\n",
       "0  2009      7   15  09:22:31  7.8 -45.8339  166.6363      20.9   \n",
       "1  2016     11   13  11:02:59  7.8 -42.7245  173.0647      22.0   \n",
       "2  2003      8   21  12:12:47  7.2 -45.0875  167.0892       6.8   \n",
       "3  2001      8   21  06:52:06  7.1 -36.8010 -179.7230      33.5   \n",
       "4  2004     11   22  20:26:23  7.1 -46.4964  164.8273       7.6   \n",
       "\n",
       "                            region  iris_id   timestamp  \n",
       "0  OFF W. COAST OF S. ISLAND, N.Z.  2871698  1247649751  \n",
       "1        SOUTH ISLAND, NEW ZEALAND  5197722  1479034979  \n",
       "2        SOUTH ISLAND, NEW ZEALAND  1628007  1061467967  \n",
       "3       EAST OF NORTH ISLAND, N.Z.  1169374   998376726  \n",
       "4  OFF W. COAST OF S. ISLAND, N.Z.  1888053  1101155183  "
      ]
     },
     "metadata": {},
     "output_type": "display_data"
    }
   ],
   "source": [
    "nz_eqs = pd.read_csv(\"data/nz_largest_eq_since_1970.csv\")\n",
    "nz_eqs.head()"
   ]
  },
  {
   "cell_type": "code",
   "execution_count": null,
   "metadata": {},
   "outputs": [
    {
     "data": {
      "image/png": "[encoded data removed]",
      "text/plain": [
       "<Figure size 504x216 with 2 Axes>"
      ]
     },
     "metadata": {},
     "output_type": "display_data"
    }
   ],
   "source": [
    "fig, axes = plt.subplots(1,2, figsize=(7,3))\n",
    "\n",
    "ax1 = axes[0]\n",
    "ax1.hist(nz_eqs.mag,bins=20)\n",
    "ax1.set_xlabel(\"Magnitude\")\n",
    "\n",
    "ax2 = axes[1]\n",
    "ax2.hist(nz_eqs.depth_km,bins=20)\n",
    "ax2.set_xlabel(\"Depth (km)\")\n",
    "\n",
    "plt.subplots_adjust(wspace=0.3)\n",
    "plt.show()"
   ]
  },
  {
   "cell_type": "markdown",
   "metadata": {},
   "source": [
    "The distributions do not look normal, however, we can test them to get a more robust evidence:"
   ]
  },
  {
   "cell_type": "code",
   "execution_count": null,
   "metadata": {},
   "outputs": [
    {
     "name": "stdout",
     "output_type": "stream",
     "text": [
      "P-value = 0.000000000.\n",
      "P-value = 0.000000000.\n"
     ]
    }
   ],
   "source": [
    "statistic, p_value = stats.normaltest(nz_eqs.mag)\n",
    "\n",
    "print(\"P-value = %.9f.\" % p_value)\n",
    "\n",
    "statistic, p_value = stats.normaltest(nz_eqs.depth_km)\n",
    "print(\"P-value = %.9f.\" % p_value)"
   ]
  },
  {
   "cell_type": "markdown",
   "metadata": {},
   "source": [
    "In both cases, the p-value is so small, the null hypothesis is rejected, and therefore, the distributions are not normal."
   ]
  },
  {
   "cell_type": "markdown",
   "metadata": {},
   "source": [
    "## Chi-squared test ( or $\\chi^2$ test)\n"
   ]
  },
  {
   "cell_type": "markdown",
   "metadata": {},
   "source": [
    "\n",
    "\n",
    "Chi-squared test is used for discrete (categorised data). For example, discrete data may be rock type (granite, sandstone, limestone, etc.) or fault type (normal, strike-slip, etc.). \n",
    "\n",
    "This test assesses how likely it is that counts of discrete data fit some expected pattern. In Python we can use a [chi-squared test](https://docs.scipy.org/doc/scipy/reference/generated/scipy.stats.chisquare.html) with:\n",
    "\n",
    "    scipy.stats.chisquare()\n",
    "\n",
    "that tests the null hypothesis that the categorical data has the given frequency. It returns _s-statistic_ that is the value of Chi-squared and _p-value_ which is the two-tailed probability of the result occuring by chance.\n",
    "\n",
    "**Exercise**\n",
    "\n",
    "Let's say that we analyse 2000 grades and they fall into fail, 2rd, 2ii, 2i and 1st categories. We find that the marks breakdown is\n",
    "\n",
    "Fail: 3.2% 3rd: 11.5% 2ii: 15.9% 2i: 41.3% 1st: 28.1\n",
    "\n",
    "We will consider now a group of students and their marks:\n",
    "\n",
    "| Grade | Group 1 | Group 2 |\n",
    "|-------|---------|---------|\n",
    "| Fail  | 1       | 0       |\n",
    "| 3rd   | 12      | 8       |\n",
    "| 2ii   | 23      | 8       |\n",
    "| 2i    | 29      | 24      |\n",
    "| 1st   | 21      | 40      |\n",
    "\n",
    "Chi-squared test will help us determine whether these grades are atypical."
   ]
  },
  {
   "cell_type": "code",
   "execution_count": null,
   "metadata": {},
   "outputs": [
    {
     "name": "stdout",
     "output_type": "stream",
     "text": [
      "Group 1 p-value = 0.03779.\n",
      "Group 2 p-value = 0.00040.\n"
     ]
    }
   ],
   "source": [
    "observed1 = np.array([1, 12, 23, 29, 21])\n",
    "observed2 = np.array([0, 8, 8, 24, 40])\n",
    "\n",
    "predicted = np.array([3.2, 11.5, 15.9, 41.3, 28.1])\n",
    "\n",
    "s_statistic, p_value = stats.chisquare(observed1, predicted)\n",
    "print(\"Group 1 p-value = %.5f.\" % p_value)\n",
    "\n",
    "s_statistic, p_value = stats.chisquare(observed2, predicted)\n",
    "print(\"Group 2 p-value = %.5f.\" % p_value)"
   ]
  },
  {
   "cell_type": "markdown",
   "metadata": {},
   "source": [
    "The p-value indicates that these groups have quite typical mark distribtion."
   ]
  }
 ],
 "metadata": {
  "celltoolbar": "Tags",
  "kernelspec": {
   "display_name": "Python 3",
   "language": "python",
   "name": "python3"
  },
  "language_info": {
   "codemirror_mode": {
    "name": "ipython",
    "version": 3
   },
   "file_extension": ".py",
   "mimetype": "text/x-python",
   "name": "python",
   "nbconvert_exporter": "python",
   "pygments_lexer": "ipython3",
   "version": "3.9.13"
  }
 },
 "nbformat": 4,
 "nbformat_minor": 4
}
