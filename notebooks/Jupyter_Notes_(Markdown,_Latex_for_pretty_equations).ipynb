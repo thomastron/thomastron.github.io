{
 "cells": [
  {
   "cell_type": "markdown",
   "metadata": {
    "id": "qa32MYJc5RNc"
   },
   "source": [
    "# Welcome to the notes\n",
    "This is a Jupyter Notebook of my notes on using Jupyter Notebooks. It contains my notes on using Markdown and Latex to create math equations that look nice. Here are some key tips to know ASAP:\n",
    "\n",
    "- comment and uncomment lines of code with the # which will enable and disable the line\n",
    "- ipynb files are just plain text. Modern envinroments (VSCode, Colab, Jupyter Lab) apply syntax formatting to make things visually readable. This is a powerful learning aid. \n",
    "- the second amazing learning aids are the new AIs (chatGPT, etc) which can answer questions, explain code, fix code, modify code, etc. \n",
    "\n",
    "\n",
    "\n",
    "\n",
    "\n",
    "\n",
    "For a more complete and authoritative guide, see the official Jupyter notebook documentation [here](https://jupyter-notebook.readthedocs.io/en/stable/)."
   ]
  },
  {
   "cell_type": "markdown",
   "metadata": {
    "id": "wdBnBiz5bzwu"
   },
   "source": [
    "# Introduction"
   ]
  },
  {
   "cell_type": "markdown",
   "metadata": {
    "id": "JyG45Qk3qQLS"
   },
   "source": [
    "## Cells\n",
    "A notebook is a list of cells. Cells contain either explanatory **text** or executable **code** and its output. Click a cell to select it.\n"
   ]
  },
  {
   "cell_type": "markdown",
   "metadata": {
    "id": "GRqZu0DVa2h4"
   },
   "source": [
    "## Markdown vs code cells"
   ]
  },
  {
   "cell_type": "markdown",
   "metadata": {
    "id": "mL-y8OTEa2h4"
   },
   "source": [
    "\n",
    "Execution cells are divided into two **types**: **markdown** cells and **code** cells.\n",
    "\n",
    "Markdown cells, like this one, allow you to type formatted text, equations, bulleted lists, and so on. To edit or view the raw content of a markdown cell, either **[double-click]** on the cell or just hit **ENTER**. Try that now. Take a look at the raw markdown, and then execute the cell and advance to the next cell (again by pressing SHIFT+ENTER).\n",
    "\n",
    "The other type of cells are code cells. The notebooks in this series will be based on Python 3, which means that the code cells will be interpreted as Python3 code. You can type any commands that you would normally type in a Python script or iPython command line. Go ahead and advance to the next cell, which is an example of a code cell, and execute it.\n",
    "\n"
   ]
  },
  {
   "cell_type": "code",
   "execution_count": null,
   "metadata": {
    "colab": {
     "base_uri": "https://localhost:8080/"
    },
    "executionInfo": {
     "elapsed": 7212,
     "status": "ok",
     "timestamp": 1696471758020,
     "user": {
      "displayName": "Thomas Dwyer",
      "userId": "14201548677665955615"
     },
     "user_tz": 420
    },
    "id": "8jBmajLPa2h5",
    "outputId": "309ea523-c947-4e05-fe6e-fca061dbbecf"
   },
   "outputs": [
    {
     "data": {
      "text/plain": [
       "-18.333333333333332"
      ]
     },
     "execution_count": 1,
     "metadata": {},
     "output_type": "execute_result"
    }
   ],
   "source": [
    "from time import sleep\n",
    "mynumber = 1 + (2 / 3) - (4 * 5)\n",
    "sleep(2)\n",
    "mynumber"
   ]
  },
  {
   "cell_type": "markdown",
   "metadata": {
    "id": "iXowmgjta2h6"
   },
   "source": [
    "Notice that after executing the code cell, it is assigned an input number and its output (if any) is assigned an output number. If you re-execute the code cell, it is assigned a new input/output number. If a code cell is still executing, say if you're performing an intensive calculation, the input number appears as [$*$]. (Notice, here I included the sleep command only to slow down the execution of the cell to illustrate this.) You either need to wait until a cell has finished before executing a new cell, or you can interrupt the execution using the stop button in the toolbar above."
   ]
  },
  {
   "cell_type": "markdown",
   "metadata": {
    "id": "w86a4I4fmkvD"
   },
   "source": [
    "## Differences between Colab Markdown and other Markdown dialects\n"
   ]
  },
  {
   "cell_type": "markdown",
   "metadata": {
    "id": "YrkwU_YCa2h7"
   },
   "source": [
    "\n",
    "Most LaTeX commands can be used in markdown cells. For example, you can express symbols like $\\alpha$, $\\beta$, $\\gamma$ in the usual way, just as if you were working in a TeX file. You can also add equations, either using the usual LaTeX commands like this:\n",
    "```\n",
    "\\begin{equation}\n",
    "  \\cos(a + b) = \\cos{a}\\cos{b} - \\sin{a}\\sin{b}\n",
    "\\end{equation}\n",
    "```\n",
    "or in more abbreviated form using the double dollar sign \"$$\" like this:\n",
    "```\n",
    "$$\n",
    "  \\cos(a + b) = \\cos{a}\\cos{b} - \\sin{a}\\sin{b}\n",
    "$$\n",
    "```\n",
    "and both will look like this:\n",
    "\n",
    "$$\n",
    "  \\cos(a + b) = \\cos{a}\\cos{b} - \\sin{a}\\sin{b}\n",
    "$$\n",
    "To see the raw markdown in thie nicely formatted cell with the equation above - to show the commands used to create the above expressions, double-click on this cell or just hit ENTER.\n",
    "\n",
    "Although very similar to LaTeX, markdown and LaTeX are not identical. For example, at the time of writing this, LaTeX tables do not work well in markdown. You only need to be aware of these limitations if you are going to start creating your own content in Jupyter notebooks. As a user, these limitations will not affect you."
   ]
  },
  {
   "cell_type": "markdown",
   "metadata": {
    "id": "APdc03D6a2h7"
   },
   "source": [
    "At any given time when working in a Jupyter notebook, you are either in **edit mode** or **command mode**.\n",
    "\n",
    "When in command mode, the current cell has a blue highlighted border. In this mode you can navigate up and down between cells using the arrow keys on your keyboard. When you execute a cell and advance to the next cell, you always start that new cell in command mode. This allows you to rapidly execute the cells in a notebook by simply holding down SHIFT and repeatedly hitting the ENTER key.\n",
    "\n",
    "To edit a cell, you need to enter edit mode. You do this by either double-clicking the cell, or simply hitting ENTER. (You should have done this already above, but if you haven't, try it now.) When in edit mode, the current cell has a green highlighted border.\n",
    "\n",
    "To switch out of edit mode, execute the cell. You can execute the cell and advance to the next cell with SHIFT+ENTER. Alternatively, you can execute the cell without advancing to the next cell with CTRL+ENTER.\n",
    "\n",
    "Take a minute to practice entering/exiting edit mode and command mode."
   ]
  },
  {
   "cell_type": "markdown",
   "metadata": {
    "id": "P23XCJvva2h8"
   },
   "source": [
    "There is a lot of useful information under the \"Help\" menu. There is a list of keyboard shortcuts as well as links to tutorials and documentation for the various common tools and languages used in Jupyter notebooks. If you're wondering how to do something, or getting hung-up on something, browse the contents of the help menu."
   ]
  },
  {
   "cell_type": "markdown",
   "metadata": {
    "id": "iwvIlOCOeRKa"
   },
   "source": [
    "# Basic Usage of Jupyter Notebooks"
   ]
  },
  {
   "cell_type": "markdown",
   "metadata": {
    "id": "PkwSHzWA17Ny"
   },
   "source": [
    "\n",
    "split cell at this line: ```ctrl``` + ```m``` + ```-```"
   ]
  },
  {
   "cell_type": "markdown",
   "metadata": {
    "id": "ea0feRHOnFuk"
   },
   "source": [
    "## Adding and Moving Cells"
   ]
  },
  {
   "cell_type": "markdown",
   "metadata": {
    "id": "7bqjkGKwQSHW"
   },
   "source": [
    "You can add new cells by using the **+ CODE** and **+ TEXT** buttons that show when you hover between cells. These buttons are also in the toolbar above the notebook where they can be used to add a cell below the currently selected cell.\n",
    "\n",
    "You can move a cell by selecting it and clicking **Cell Up** or **Cell Down** in the top toolbar.\n",
    "\n",
    "Consecutive cells can be selected by \"lasso selection\" by dragging from outside one cell and through the group.  Non-adjacent cells can be selected concurrently by clicking one and then holding down Ctrl while clicking another.  Similarly, using Shift instead of Ctrl will select all intermediate cells."
   ]
  },
  {
   "cell_type": "markdown",
   "metadata": {
    "id": "CSBc5GjtmvAJ"
   },
   "source": [
    "## Text cells"
   ]
  },
  {
   "cell_type": "markdown",
   "metadata": {
    "id": "Id6tDF1HQSHD"
   },
   "source": [
    "\n",
    "This is a **text cell**. You can **double-click** to edit this cell. Text cells\n",
    "use markdown syntax. To learn more, see our [markdown\n",
    "guide](/notebooks/markdown_guide.ipynb).\n",
    "\n",
    "You can also add math to text cells using [LaTeX](http://www.latex-project.org/)\n",
    "to be rendered by [MathJax](https://www.mathjax.org). Just place the statement\n",
    "within a pair of **\\$** signs. For example `$\\sqrt{3x-1}+(1+x)^2$` becomes\n",
    "$\\sqrt{3x-1}+(1+x)^2.$\n"
   ]
  },
  {
   "cell_type": "markdown",
   "metadata": {
    "id": "19jX55cImzLv"
   },
   "source": [
    "## Code cells"
   ]
  },
  {
   "cell_type": "markdown",
   "metadata": {
    "id": "KR921S_OQSHG"
   },
   "source": [
    "Below is a **code cell**. Once the toolbar button indicates CONNECTED, click in the cell to select it and execute the contents in the following ways:\n",
    "\n",
    "* Click the **Play icon** in the left gutter of the cell;\n",
    "* Type **Cmd/Ctrl+Enter** to run the cell in place;\n",
    "* Type **Shift+Enter** to run the cell and move focus to the next cell (adding one if none exists); or\n",
    "* Type **Alt+Enter** to run the cell and insert a new code cell immediately below it.\n",
    "\n",
    "There are additional options for running some or all cells in the **Runtime** menu.\n"
   ]
  },
  {
   "cell_type": "markdown",
   "metadata": {
    "id": "O5nE4--6n0ON"
   },
   "source": [
    "## Keyboard Navigation"
   ]
  },
  {
   "cell_type": "markdown",
   "metadata": {
    "id": "pR-bOp5tD-Us"
   },
   "source": [
    "1. Show Help ```CMD/CTRL M + h```\n",
    "Perhaps the most useful shortcut you should know. This shows you all the currently set keyboard shortcuts in Colab, so if you ever forget anything, this is the place to go 😉\n",
    "\n",
    "1. Mount Drive ```Customise Your Own!``` Executing this shortcut brings up this dialog box This shortcut allows you to mount your Google Drive onto Colab so that you can access your files with ease. There is no default keyboard shortcut for this, but you can set your own. For me, I use CMD + D (D for ‘Drive).\n",
    "\n",
    "1. Interrupt Execution ```CMD/CTRL M + i```\n",
    "Interrupts cell execution if you ever get caught in an infinite loop!\n",
    "\n",
    "1. Adding Cursors. There are 3 main ways to add cursors to make multiple edits at the same time, in increasing level of control:\n",
    " ```CMD / CTRL + Shift + L```: Get a cursor for every word instance\n",
    " ```CMD / CTRL + D```: Select each word one at a time\n",
    " ```OPTN / ALT + Clic```k: Specify cursor position\n",
    "  Great for moving lines up and down without all that copy-pasting. Hold the ```Shift``` key as well to copy the lines up or down.\n",
    "1. Deleting Code\n",
    "\n",
    "  Delete line ```CMD / CTRL + Shift + K```:\n",
    "\n",
    "  Delete all before cursor```CMD / CTRL + Delete```\n",
    "1. Indenting Lines ```CMD/CTRL M + Square brackets```\n",
    "Yes, typically one might use the TAB key to help with indenting, but if say you’re in the middle of a line, that’s not going to work so well:\n",
    "Tabbing in the middle of a line, Use the square brackets```[``` (to indent left) and ```]``` (to indent right) 👍\n",
    "\n",
    "1. Move To Start and End of Line ```CTRL a/e```\n",
    "```CTRL-a``` will bring you to the start of a line, and ```CTRL-e``` will take you to the end of a line. Simple, but super useful!"
   ]
  },
  {
   "cell_type": "markdown",
   "metadata": {
    "id": "hqGQjqoWF3nh"
   },
   "source": [
    "## Formatting"
   ]
  },
  {
   "cell_type": "markdown",
   "metadata": {
    "id": "pWP3lAGzAObu"
   },
   "source": [
    "```markdown\n",
    ">One level of indentation\n",
    "```\n",
    ">One level of indentation\n",
    "\n",
    "\n",
    "```markdown\n",
    ">>Two levels of indentation\n",
    "```\n",
    ">>Two levels of indentation\n",
    "\n",
    "*italicized text*\n",
    "Code blocks\n",
    "\n",
    "````\n",
    "```python\n",
    "print(\"a\")\n",
    "```\n",
    "````\n",
    "\n",
    "```python\n",
    "print(\"a\")\n",
    "```"
   ]
  },
  {
   "cell_type": "markdown",
   "metadata": {
    "id": "St6_zoYXOR_0"
   },
   "source": [
    "Markdown | Preview\n",
    "--- | ---\n",
    "`**bold text**` | **bold text**\n",
    "`*italicized text*` or `_italicized text_` | *italicized text*\n",
    "`` `Monospace` `` | `Monospace`\n",
    "`~~strikethrough~~` | ~~strikethrough~~\n",
    "`[A link](https://www.google.com)` | [A link](https://www.google.com)\n",
    "`![An image](https://www.google.com/images/rss.png)` | ![An image](https://www.google.com/images/rss.png)\n"
   ]
  },
  {
   "cell_type": "markdown",
   "metadata": {
    "id": "Lhfnlq1Surtk"
   },
   "source": [
    "\n",
    "\n",
    "Headings are rendered as titles.\n",
    "\n",
    "```markdown\n",
    "# Section 1 Juan\n",
    "# Section 2\n",
    "## Sub-section under Section 2\n",
    "### Sub-section under the sub-section under Section 2\n",
    "# Section 3\n",
    "```\n",
    "\n",
    "The table of contents, available on the left side of Colab, is populated using at most one section title from each text cell.\n"
   ]
  },
  {
   "cell_type": "markdown",
   "metadata": {
    "id": "N0yHH8iMCaAm"
   },
   "source": [
    "the text in below is preceeded by ```markdown which makes it display in this lovely format\n",
    "```markdown\n",
    "this is the text precedded by ```markdown. This is displayed within Colab and other jupyter viewers as markdown formatted text now.\n",
    "```\n"
   ]
  },
  {
   "cell_type": "code",
   "execution_count": null,
   "metadata": {
    "cellView": "both",
    "colab": {
     "base_uri": "https://localhost:8080/"
    },
    "executionInfo": {
     "elapsed": 323,
     "status": "ok",
     "timestamp": 1696471812015,
     "user": {
      "displayName": "Thomas Dwyer",
      "userId": "14201548677665955615"
     },
     "user_tz": 420
    },
    "id": "WUtu4316QSHL",
    "outputId": "bc85ccb6-ca28-49f2-9224-95bae75d3ec7"
   },
   "outputs": [
    {
     "data": {
      "text/plain": [
       "10"
      ]
     },
     "execution_count": 6,
     "metadata": {},
     "output_type": "execute_result"
    }
   ],
   "source": [
    "a = 10\n",
    "a"
   ]
  },
  {
   "cell_type": "markdown",
   "metadata": {
    "id": "KYTJUmFSmOhn"
   },
   "source": [
    "---\n",
    "Horizontal rules (like above):"
   ]
  },
  {
   "cell_type": "markdown",
   "metadata": {
    "id": "jtElsrncnfCH"
   },
   "source": [
    "## Embedded SVGs"
   ]
  },
  {
   "cell_type": "code",
   "execution_count": null,
   "metadata": {
    "colab": {
     "base_uri": "https://localhost:8080/",
     "height": 62
    },
    "executionInfo": {
     "elapsed": 335,
     "status": "ok",
     "timestamp": 1696471816635,
     "user": {
      "displayName": "Thomas Dwyer",
      "userId": "14201548677665955615"
     },
     "user_tz": 420
    },
    "id": "0KroLIQKQDl9",
    "outputId": "39d35054-7af5-4707-a88a-82459379e2a3"
   },
   "outputs": [
    {
     "data": {
      "text/html": [
       "<svg xmlns=\"http://www.w3.org/2000/svg\" height=\"40\" width=\"40\"><circle cx=\"20\" cy=\"20\" r=\"20\" fill=\"red\" /></svg>\n"
      ],
      "text/plain": [
       "<IPython.core.display.HTML object>"
      ]
     },
     "metadata": {},
     "output_type": "display_data"
    }
   ],
   "source": [
    "##@title Vanilla, inline SVG tag\n",
    "%%html\n",
    "<svg xmlns=\"http://www.w3.org/2000/svg\" height=\"40\" width=\"40\"><circle cx=\"20\" cy=\"20\" r=\"20\" fill=\"red\" /></svg>"
   ]
  },
  {
   "cell_type": "code",
   "execution_count": null,
   "metadata": {
    "colab": {
     "base_uri": "https://localhost:8080/",
     "height": 142
    },
    "executionInfo": {
     "elapsed": 41,
     "status": "ok",
     "timestamp": 1696471816635,
     "user": {
      "displayName": "Thomas Dwyer",
      "userId": "14201548677665955615"
     },
     "user_tz": 420
    },
    "id": "Z3rMivS6OHPK",
    "outputId": "92338daf-0f0a-4aae-9596-65f4f5b2b46f"
   },
   "outputs": [
    {
     "data": {
      "text/html": [
       "<!---->\n",
       "\n",
       "<img src='data:image/svg+xml;ascii,<svg xmlns=\"http://www.w3.org/2000/svg\" height=\"40\" width=\"40\"><circle cx=\"20\" cy=\"20\" r=\"20\" fill=\"red\" /></svg>'>\n",
       "\n",
       "<img src=\"data:image/svg+xml;ascii,%3Csvg%20xmlns%3D%22http%3A%2F%2Fwww.w3.org%2F2000%2Fsvg%22%20height%3D%2240%22%20width%3D%2240%22%3E%3Ccircle%20cx%3D%2220%22%20cy%3D%2220%22%20r%3D%2220%22%20fill%3D%22red%22%20%2F%3E%3C%2Fsvg%3E\">\n",
       "\n",
       "<img src=\"data:image/svg+xml;base64,PHN2ZyB4bWxucz0iaHR0cDovL3d3dy53My5vcmcvMjAwMC9zdmciIGhlaWdodD0iNDAiIHdpZHRoPSI0MCI+PGNpcmNsZSBjeD0iMjAiIGN5PSIyMCIgcj0iMjAiIGZpbGw9InJlZCIgLz48L3N2Zz4=\">\n",
       "\n",
       "<!--URL-encoded and Base64-encoded CSS Background Image-->\n",
       "\n",
       "<div style=\"width: 40px; height: 40px; background-image: url('data:image/svg+xml;ascii,%3Csvg%20xmlns%3D%22http%3A%2F%2Fwww.w3.org%2F2000%2Fsvg%22%20height%3D%2240%22%20width%3D%2240%22%3E%3Ccircle%20cx%3D%2220%22%20cy%3D%2220%22%20r%3D%2220%22%20fill%3D%22red%22%20%2F%3E%3C%2Fsvg%3E')\"></div>\n",
       "\n",
       "<div style=\"width: 40px; height: 40px; background-image: url('data:image/svg+xml;base64,PHN2ZyB4bWxucz0iaHR0cDovL3d3dy53My5vcmcvMjAwMC9zdmciIGhlaWdodD0iNDAiIHdpZHRoPSI0MCI+PGNpcmNsZSBjeD0iMjAiIGN5PSIyMCIgcj0iMjAiIGZpbGw9InJlZCIgLz48L3N2Zz4=')\"></div>\n"
      ],
      "text/plain": [
       "<IPython.core.display.HTML object>"
      ]
     },
     "metadata": {},
     "output_type": "display_data"
    }
   ],
   "source": [
    "##@title Vanilla, URL-encoded, and Base64-encoded SVG in <img> tag\n",
    "%%html\n",
    "<!---->\n",
    "\n",
    "<img src='data:image/svg+xml;ascii,<svg xmlns=\"http://www.w3.org/2000/svg\" height=\"40\" width=\"40\"><circle cx=\"20\" cy=\"20\" r=\"20\" fill=\"red\" /></svg>'>\n",
    "\n",
    "<img src=\"data:image/svg+xml;ascii,%3Csvg%20xmlns%3D%22http%3A%2F%2Fwww.w3.org%2F2000%2Fsvg%22%20height%3D%2240%22%20width%3D%2240%22%3E%3Ccircle%20cx%3D%2220%22%20cy%3D%2220%22%20r%3D%2220%22%20fill%3D%22red%22%20%2F%3E%3C%2Fsvg%3E\">\n",
    "\n",
    "<img src=\"data:image/svg+xml;base64,PHN2ZyB4bWxucz0iaHR0cDovL3d3dy53My5vcmcvMjAwMC9zdmciIGhlaWdodD0iNDAiIHdpZHRoPSI0MCI+PGNpcmNsZSBjeD0iMjAiIGN5PSIyMCIgcj0iMjAiIGZpbGw9InJlZCIgLz48L3N2Zz4=\">\n",
    "\n",
    "<!--URL-encoded and Base64-encoded CSS Background Image-->\n",
    "\n",
    "<div style=\"width: 40px; height: 40px; background-image: url('data:image/svg+xml;ascii,%3Csvg%20xmlns%3D%22http%3A%2F%2Fwww.w3.org%2F2000%2Fsvg%22%20height%3D%2240%22%20width%3D%2240%22%3E%3Ccircle%20cx%3D%2220%22%20cy%3D%2220%22%20r%3D%2220%22%20fill%3D%22red%22%20%2F%3E%3C%2Fsvg%3E')\"></div>\n",
    "\n",
    "<div style=\"width: 40px; height: 40px; background-image: url('data:image/svg+xml;base64,PHN2ZyB4bWxucz0iaHR0cDovL3d3dy53My5vcmcvMjAwMC9zdmciIGhlaWdodD0iNDAiIHdpZHRoPSI0MCI+PGNpcmNsZSBjeD0iMjAiIGN5PSIyMCIgcj0iMjAiIGZpbGw9InJlZCIgLz48L3N2Zz4=')\"></div>"
   ]
  },
  {
   "cell_type": "code",
   "execution_count": null,
   "metadata": {
    "colab": {
     "base_uri": "https://localhost:8080/",
     "height": 97
    },
    "executionInfo": {
     "elapsed": 39,
     "status": "ok",
     "timestamp": 1696471816635,
     "user": {
      "displayName": "Thomas Dwyer",
      "userId": "14201548677665955615"
     },
     "user_tz": 420
    },
    "id": "P5QiAHInPquD",
    "outputId": "658cc068-fb90-4aee-843c-3d1ec252fd35"
   },
   "outputs": [
    {
     "data": {
      "text/html": [
       "\n",
       "<div style=\"width: 40px; height: 40px; background-image: url('data:image/svg+xml;ascii,%3Csvg%20xmlns%3D%22http%3A%2F%2Fwww.w3.org%2F2000%2Fsvg%22%20height%3D%2240%22%20width%3D%2240%22%3E%3Ccircle%20cx%3D%2220%22%20cy%3D%2220%22%20r%3D%2220%22%20fill%3D%22red%22%20%2F%3E%3C%2Fsvg%3E')\"></div>\n",
       "<div style=\"width: 40px; height: 40px; background-image: url('data:image/svg+xml;base64,PHN2ZyB4bWxucz0iaHR0cDovL3d3dy53My5vcmcvMjAwMC9zdmciIGhlaWdodD0iNDAiIHdpZHRoPSI0MCI+PGNpcmNsZSBjeD0iMjAiIGN5PSIyMCIgcj0iMjAiIGZpbGw9InJlZCIgLz48L3N2Zz4=')\"></div>\n"
      ],
      "text/plain": [
       "<IPython.core.display.HTML object>"
      ]
     },
     "metadata": {},
     "output_type": "display_data"
    }
   ],
   "source": [
    "##@title URL-encoded and Base64-encoded CSS Background Image\n",
    "%%html\n",
    "\n",
    "<div style=\"width: 40px; height: 40px; background-image: url('data:image/svg+xml;ascii,%3Csvg%20xmlns%3D%22http%3A%2F%2Fwww.w3.org%2F2000%2Fsvg%22%20height%3D%2240%22%20width%3D%2240%22%3E%3Ccircle%20cx%3D%2220%22%20cy%3D%2220%22%20r%3D%2220%22%20fill%3D%22red%22%20%2F%3E%3C%2Fsvg%3E')\"></div>\n",
    "<div style=\"width: 40px; height: 40px; background-image: url('data:image/svg+xml;base64,PHN2ZyB4bWxucz0iaHR0cDovL3d3dy53My5vcmcvMjAwMC9zdmciIGhlaWdodD0iNDAiIHdpZHRoPSI0MCI+PGNpcmNsZSBjeD0iMjAiIGN5PSIyMCIgcj0iMjAiIGZpbGw9InJlZCIgLz48L3N2Zz4=')\"></div>"
   ]
  },
  {
   "cell_type": "markdown",
   "metadata": {
    "id": "eCZBfWGHhMaX"
   },
   "source": [
    "## Lists"
   ]
  },
  {
   "cell_type": "markdown",
   "metadata": {
    "id": "s2Uozz75gx3J"
   },
   "source": [
    "Ordered lists:\n",
    "```markdown\n",
    "1. One\n",
    "1. Two\n",
    "1. Three\n",
    "check out how it auto numerates even though 1 was entered on all\n",
    "```\n",
    "1. One\n",
    "1. Two\n",
    "1. Three\n",
    "\n",
    "\n",
    "Unordered lists:\n",
    "```markdown\n",
    "* One\n",
    "* Two\n",
    "* Three\n",
    "```\n",
    "* One\n",
    "* Two\n",
    "* Three"
   ]
  },
  {
   "cell_type": "markdown",
   "metadata": {
    "id": "ZJ-nZjVEXET4"
   },
   "source": [
    "##Tables"
   ]
  },
  {
   "cell_type": "markdown",
   "metadata": {
    "id": "WZHPeh-PICQY"
   },
   "source": [
    "```markdown\n",
    "First column name  | Second column name\n",
    "-------------------|------------------\n",
    "Row 1, Col 1       | Row 1, Col 2\n",
    "Row 2, Col 1       | Row 2, Col 2\n",
    "\n",
    "```\n",
    "\n",
    "First column name  | Second column name\n",
    "-------------------|------------------\n",
    "Row 1, Col 1       | Row 1, Col 2\n",
    "Row 2, Col 1       | Row 2, Col 2"
   ]
  },
  {
   "cell_type": "markdown",
   "metadata": {
    "id": "n6tKwXZJdaIp"
   },
   "source": [
    "##Checkpointing and Autosave"
   ]
  },
  {
   "cell_type": "markdown",
   "metadata": {
    "id": "VVZJ22w4a2h-"
   },
   "source": [
    "\n",
    "As a final note, by default Jupyter notebooks are autosaved periodically. So if you accidentally close a notebook or your machine crashes, any recent changes will have been saved. However when you manually click save (or CTRL+S), you also create a checkpoint. Jupyter always stores at least one checkpoint file, which you can revert to using the \"File\" menu. While a notebook is still running, the most up-to-date autosaved version of the file usually differs from the checkpoint file. When a notebook is gracefully saved and closed, the checkpoint file provides a backup to the saved file.\n",
    "\n",
    "[NOTE: there is only one checkpoint file at any given time. So the built-in checkpoint file does not provide a fool-proof version control system.]"
   ]
  },
  {
   "cell_type": "markdown",
   "metadata": {
    "id": "euW7joS4FpiA"
   },
   "source": [
    "Colab uses [marked.js](https://github.com/chjj/marked) and so is similar but not quite identical to the Markdown used by Jupyter and Github.\n",
    "\n",
    "Colab supports (MathJax) $\\LaTeX$ equations like Jupyter, but does not allow HTML tags in the Markdown. Colab does not support some GitHub additions like emojis and to-do checkboxes.\n",
    "\n",
    "If HTML must be included in a Colab notebook, see the [%%html magic](/notebooks/basic_features_overview.ipynb#scrollTo=qM4myQGfQboQ)."
   ]
  },
  {
   "cell_type": "markdown",
   "metadata": {
    "id": "D11eMys0fKWq"
   },
   "source": [
    "# The Power of Coding"
   ]
  },
  {
   "cell_type": "code",
   "execution_count": null,
   "metadata": {
    "id": "C4D8-uxSi6Ik"
   },
   "outputs": [],
   "source": []
  },
  {
   "cell_type": "markdown",
   "metadata": {
    "id": "5H_ZuYHJa2h8"
   },
   "source": [
    "## Magics"
   ]
  },
  {
   "cell_type": "markdown",
   "metadata": {
    "id": "JDm8i2uZbYdd"
   },
   "source": [
    "Part of the power of Jupyter notebooks is that provide an environment that supports multiple languages and tools simultaneously. Some of these tools are wrapped in so-called \"magic commands\" or simply \"magics\". Here we illustrate how to use just two of these: the %%writefile and %load magics.\n",
    "\n",
    "The %%writefile magic is an example of a \"cell magic\", so-called because it operates on the contents of an entire cell (i.e., takes the entire cell as its argument). This cell magic will write the contents the cell to a file in your working directory.\n",
    "\n",
    "The %load magic is an example of a \"line magic\", so-called because it operates on a single line (i.e., its arguments must be in the same line as the command). This magic will load the contents of the specified file into the current cell."
   ]
  },
  {
   "cell_type": "code",
   "execution_count": null,
   "metadata": {
    "colab": {
     "base_uri": "https://localhost:8080/",
     "height": 173
    },
    "executionInfo": {
     "elapsed": 38,
     "status": "ok",
     "timestamp": 1696471816636,
     "user": {
      "displayName": "Thomas Dwyer",
      "userId": "14201548677665955615"
     },
     "user_tz": 420
    },
    "id": "9Px42jGmYDja",
    "outputId": "072ebc75-5303-4ade-a655-9155d2150650"
   },
   "outputs": [
    {
     "data": {
      "application/json": {
       "cell": {
        "!": "OSMagics",
        "HTML": "Other",
        "SVG": "Other",
        "bash": "Other",
        "bigquery": "Other",
        "capture": "ExecutionMagics",
        "debug": "ExecutionMagics",
        "file": "Other",
        "html": "DisplayMagics",
        "javascript": "DisplayMagics",
        "js": "DisplayMagics",
        "latex": "DisplayMagics",
        "markdown": "DisplayMagics",
        "perl": "Other",
        "prun": "ExecutionMagics",
        "pypy": "Other",
        "python": "Other",
        "python2": "Other",
        "python3": "Other",
        "ruby": "Other",
        "script": "ScriptMagics",
        "sh": "Other",
        "shell": "Other",
        "svg": "DisplayMagics",
        "sx": "OSMagics",
        "system": "OSMagics",
        "time": "ExecutionMagics",
        "timeit": "ExecutionMagics",
        "writefile": "OSMagics"
       },
       "line": {
        "alias": "OSMagics",
        "alias_magic": "BasicMagics",
        "autoawait": "AsyncMagics",
        "autocall": "AutoMagics",
        "automagic": "AutoMagics",
        "autosave": "KernelMagics",
        "bookmark": "OSMagics",
        "cat": "Other",
        "cd": "OSMagics",
        "clear": "KernelMagics",
        "colors": "BasicMagics",
        "conda": "PackagingMagics",
        "config": "ConfigMagics",
        "connect_info": "KernelMagics",
        "cp": "Other",
        "debug": "ExecutionMagics",
        "dhist": "OSMagics",
        "dirs": "OSMagics",
        "doctest_mode": "BasicMagics",
        "ed": "Other",
        "edit": "KernelMagics",
        "env": "OSMagics",
        "gui": "BasicMagics",
        "hist": "Other",
        "history": "HistoryMagics",
        "killbgscripts": "ScriptMagics",
        "ldir": "Other",
        "less": "KernelMagics",
        "lf": "Other",
        "lk": "Other",
        "ll": "Other",
        "load": "CodeMagics",
        "load_ext": "ExtensionMagics",
        "loadpy": "CodeMagics",
        "logoff": "LoggingMagics",
        "logon": "LoggingMagics",
        "logstart": "LoggingMagics",
        "logstate": "LoggingMagics",
        "logstop": "LoggingMagics",
        "ls": "Other",
        "lsmagic": "BasicMagics",
        "lx": "Other",
        "macro": "ExecutionMagics",
        "magic": "BasicMagics",
        "man": "KernelMagics",
        "matplotlib": "PylabMagics",
        "mkdir": "Other",
        "more": "KernelMagics",
        "mv": "Other",
        "notebook": "BasicMagics",
        "page": "BasicMagics",
        "pastebin": "CodeMagics",
        "pdb": "ExecutionMagics",
        "pdef": "NamespaceMagics",
        "pdoc": "NamespaceMagics",
        "pfile": "NamespaceMagics",
        "pinfo": "NamespaceMagics",
        "pinfo2": "NamespaceMagics",
        "pip": "Other",
        "popd": "OSMagics",
        "pprint": "BasicMagics",
        "precision": "BasicMagics",
        "prun": "ExecutionMagics",
        "psearch": "NamespaceMagics",
        "psource": "NamespaceMagics",
        "pushd": "OSMagics",
        "pwd": "OSMagics",
        "pycat": "OSMagics",
        "pylab": "PylabMagics",
        "qtconsole": "KernelMagics",
        "quickref": "BasicMagics",
        "recall": "HistoryMagics",
        "rehashx": "OSMagics",
        "reload_ext": "ExtensionMagics",
        "rep": "Other",
        "rerun": "HistoryMagics",
        "reset": "NamespaceMagics",
        "reset_selective": "NamespaceMagics",
        "rm": "Other",
        "rmdir": "Other",
        "run": "ExecutionMagics",
        "save": "CodeMagics",
        "sc": "OSMagics",
        "set_env": "OSMagics",
        "shell": "Other",
        "store": "StoreMagics",
        "sx": "OSMagics",
        "system": "OSMagics",
        "tb": "ExecutionMagics",
        "tensorflow_version": "Other",
        "time": "ExecutionMagics",
        "timeit": "ExecutionMagics",
        "unalias": "OSMagics",
        "unload_ext": "ExtensionMagics",
        "who": "NamespaceMagics",
        "who_ls": "NamespaceMagics",
        "whos": "NamespaceMagics",
        "xdel": "NamespaceMagics",
        "xmode": "BasicMagics"
       }
      },
      "text/plain": [
       "Available line magics:\n",
       "%alias  %alias_magic  %autoawait  %autocall  %automagic  %autosave  %bookmark  %cat  %cd  %clear  %colors  %conda  %config  %connect_info  %cp  %debug  %dhist  %dirs  %doctest_mode  %ed  %edit  %env  %gui  %hist  %history  %killbgscripts  %ldir  %less  %lf  %lk  %ll  %load  %load_ext  %loadpy  %logoff  %logon  %logstart  %logstate  %logstop  %ls  %lsmagic  %lx  %macro  %magic  %man  %matplotlib  %mkdir  %more  %mv  %notebook  %page  %pastebin  %pdb  %pdef  %pdoc  %pfile  %pinfo  %pinfo2  %pip  %popd  %pprint  %precision  %prun  %psearch  %psource  %pushd  %pwd  %pycat  %pylab  %qtconsole  %quickref  %recall  %rehashx  %reload_ext  %rep  %rerun  %reset  %reset_selective  %rm  %rmdir  %run  %save  %sc  %set_env  %shell  %store  %sx  %system  %tb  %tensorflow_version  %time  %timeit  %unalias  %unload_ext  %who  %who_ls  %whos  %xdel  %xmode\n",
       "\n",
       "Available cell magics:\n",
       "%%!  %%HTML  %%SVG  %%bash  %%bigquery  %%capture  %%debug  %%file  %%html  %%javascript  %%js  %%latex  %%markdown  %%perl  %%prun  %%pypy  %%python  %%python2  %%python3  %%ruby  %%script  %%sh  %%shell  %%svg  %%sx  %%system  %%time  %%timeit  %%writefile\n",
       "\n",
       "Automagic is ON, % prefix IS NOT needed for line magics."
      ]
     },
     "execution_count": 10,
     "metadata": {},
     "output_type": "execute_result"
    }
   ],
   "source": [
    "%lsmagic #lists the availble magics"
   ]
  },
  {
   "cell_type": "markdown",
   "metadata": {
    "id": "IkDU8FlF1N55"
   },
   "source": [
    "Example:"
   ]
  },
  {
   "cell_type": "code",
   "execution_count": null,
   "metadata": {
    "colab": {
     "base_uri": "https://localhost:8080/"
    },
    "executionInfo": {
     "elapsed": 36,
     "status": "ok",
     "timestamp": 1696471816636,
     "user": {
      "displayName": "Thomas Dwyer",
      "userId": "14201548677665955615"
     },
     "user_tz": 420
    },
    "id": "RVfU0vl3a2h9",
    "outputId": "a27596c9-1ab9-4230-e1d3-bf5487041daa"
   },
   "outputs": [
    {
     "name": "stdout",
     "output_type": "stream",
     "text": [
      "Writing hello_world.txt\n"
     ]
    }
   ],
   "source": [
    "%%writefile hello_world.txt\n",
    "Hello world!!!\n",
    "1 + 1 = 2"
   ]
  },
  {
   "cell_type": "markdown",
   "metadata": {
    "id": "qM4myQGfQboQ"
   },
   "source": [
    "## Magics in Colab\n"
   ]
  },
  {
   "cell_type": "markdown",
   "metadata": {
    "id": "sQ8UzPaE1xYa"
   },
   "source": [
    "\n",
    "Colaboratory shares the notion of magics from Jupyter. There are shorthand annotations that change how a cell's text is executed. To learn more, see [Jupyter's magics page](http://nbviewer.jupyter.org/github/ipython/ipython/blob/1.x/examples/notebooks/Cell%20Magics.ipynb).\n"
   ]
  },
  {
   "cell_type": "code",
   "execution_count": null,
   "metadata": {
    "cellView": "both",
    "colab": {
     "base_uri": "https://localhost:8080/",
     "height": 39
    },
    "executionInfo": {
     "elapsed": 360,
     "status": "ok",
     "timestamp": 1696471855640,
     "user": {
      "displayName": "Thomas Dwyer",
      "userId": "14201548677665955615"
     },
     "user_tz": 420
    },
    "id": "odfM-_GxWbCy",
    "outputId": "1456e954-2435-45ae-af45-0f32e12518d7"
   },
   "outputs": [
    {
     "data": {
      "text/html": [
       "<marquee style='width: 30%; color: blue;'><b>Whee!</b></marquee>\n"
      ],
      "text/plain": [
       "<IPython.core.display.HTML object>"
      ]
     },
     "metadata": {},
     "output_type": "display_data"
    }
   ],
   "source": [
    "%%html\n",
    "<marquee style='width: 30%; color: blue;'><b>Whee!</b></marquee>"
   ]
  },
  {
   "cell_type": "code",
   "execution_count": null,
   "metadata": {
    "colab": {
     "base_uri": "https://localhost:8080/",
     "height": 222
    },
    "executionInfo": {
     "elapsed": 528,
     "status": "ok",
     "timestamp": 1696471856613,
     "user": {
      "displayName": "Thomas Dwyer",
      "userId": "14201548677665955615"
     },
     "user_tz": 420
    },
    "id": "_YrTcK7k22Fp",
    "outputId": "1ba90046-806d-4efd-93fe-7e81b6f8b623"
   },
   "outputs": [
    {
     "data": {
      "text/html": [
       "<svg xmlns=\"http://www.w3.org/2000/svg\" viewBox=\"0 0 450 400\" width=\"200\" height=\"200\">\n",
       "  <rect x=\"80\" y=\"60\" width=\"250\" height=\"250\" rx=\"20\" style=\"fill:red; stroke:black; fill-opacity:0.7\" />\n",
       "  <rect x=\"180\" y=\"110\" width=\"250\" height=\"250\" rx=\"40\" style=\"fill:blue; stroke:black; fill-opacity:0.5;\" />\n",
       "</svg>\n"
      ],
      "text/plain": [
       "<IPython.core.display.HTML object>"
      ]
     },
     "metadata": {},
     "output_type": "display_data"
    }
   ],
   "source": [
    "%%html\n",
    "<svg xmlns=\"http://www.w3.org/2000/svg\" viewBox=\"0 0 450 400\" width=\"200\" height=\"200\">\n",
    "  <rect x=\"80\" y=\"60\" width=\"250\" height=\"250\" rx=\"20\" style=\"fill:red; stroke:black; fill-opacity:0.7\" />\n",
    "  <rect x=\"180\" y=\"110\" width=\"250\" height=\"250\" rx=\"40\" style=\"fill:blue; stroke:black; fill-opacity:0.5;\" />\n",
    "</svg>"
   ]
  },
  {
   "cell_type": "markdown",
   "metadata": {
    "id": "GOwlZRXEQSHZ"
   },
   "source": [
    "## Interupting Python\n"
   ]
  },
  {
   "cell_type": "markdown",
   "metadata": {
    "id": "RVuqWUXPQSHa"
   },
   "source": [
    "Long running python processes can be interrupted. Run the following cell and select **Runtime -> Interrupt execution** (*hotkey: Cmd/Ctrl-M I*) to stop execution."
   ]
  },
  {
   "cell_type": "code",
   "execution_count": null,
   "metadata": {
    "cellView": "both",
    "colab": {
     "base_uri": "https://localhost:8080/",
     "height": 245
    },
    "executionInfo": {
     "elapsed": 11210,
     "status": "error",
     "timestamp": 1696471867819,
     "user": {
      "displayName": "Thomas Dwyer",
      "userId": "14201548677665955615"
     },
     "user_tz": 420
    },
    "id": "d-S-3nYLQSHb",
    "outputId": "29cd4890-0b0a-4b81-9d06-5efbae3042a3"
   },
   "outputs": [
    {
     "name": "stdout",
     "output_type": "stream",
     "text": [
      "Sleeping\n"
     ]
    },
    {
     "ename": "KeyboardInterrupt",
     "evalue": "ignored",
     "output_type": "error",
     "traceback": [
      "\u001b[0;31m---------------------------------------------------------------------------\u001b[0m",
      "\u001b[0;31mKeyboardInterrupt\u001b[0m                         Traceback (most recent call last)",
      "\u001b[0;32m<ipython-input-15-fb6d98dc021a>\u001b[0m in \u001b[0;36m<cell line: 3>\u001b[0;34m()\u001b[0m\n\u001b[1;32m      1\u001b[0m \u001b[0;32mimport\u001b[0m \u001b[0mtime\u001b[0m\u001b[0;34m\u001b[0m\u001b[0;34m\u001b[0m\u001b[0m\n\u001b[1;32m      2\u001b[0m \u001b[0mprint\u001b[0m\u001b[0;34m(\u001b[0m\u001b[0;34m\"Sleeping\"\u001b[0m\u001b[0;34m)\u001b[0m\u001b[0;34m\u001b[0m\u001b[0;34m\u001b[0m\u001b[0m\n\u001b[0;32m----> 3\u001b[0;31m \u001b[0mtime\u001b[0m\u001b[0;34m.\u001b[0m\u001b[0msleep\u001b[0m\u001b[0;34m(\u001b[0m\u001b[0;36m30\u001b[0m\u001b[0;34m)\u001b[0m \u001b[0;31m# sleep for a while; interrupt me!\u001b[0m\u001b[0;34m\u001b[0m\u001b[0;34m\u001b[0m\u001b[0m\n\u001b[0m\u001b[1;32m      4\u001b[0m \u001b[0mprint\u001b[0m\u001b[0;34m(\u001b[0m\u001b[0;34m\"Done Sleeping\"\u001b[0m\u001b[0;34m)\u001b[0m\u001b[0;34m\u001b[0m\u001b[0;34m\u001b[0m\u001b[0m\n",
      "\u001b[0;31mKeyboardInterrupt\u001b[0m: "
     ]
    }
   ],
   "source": [
    "import time\n",
    "print(\"Sleeping\")\n",
    "time.sleep(30) # sleep for a while; interrupt me!\n",
    "print(\"Done Sleeping\")"
   ]
  },
  {
   "cell_type": "markdown",
   "metadata": {
    "id": "Wej_mEyXQSHc"
   },
   "source": [
    "## System aliases\n",
    "\n",
    "Jupyter includes shortcuts for common operations, such as ls:"
   ]
  },
  {
   "cell_type": "code",
   "execution_count": null,
   "metadata": {
    "cellView": "both",
    "colab": {
     "base_uri": "https://localhost:8080/"
    },
    "executionInfo": {
     "elapsed": 224,
     "status": "ok",
     "timestamp": 1696471882591,
     "user": {
      "displayName": "Thomas Dwyer",
      "userId": "14201548677665955615"
     },
     "user_tz": 420
    },
    "id": "5OCYEvK5QSHf",
    "outputId": "f50668fd-a176-4c01-930d-7b94b82c8966"
   },
   "outputs": [
    {
     "name": "stdout",
     "output_type": "stream",
     "text": [
      "'['\t\t\t\t      mknod\n",
      " 7z\t\t\t\t      mktemp\n",
      " 7za\t\t\t\t      mm2gv\n",
      " 7zr\t\t\t\t      more\n",
      " aclocal\t\t\t      mount\n",
      " aclocal-1.16\t\t\t      mountpoint\n",
      " acyclic\t\t\t      mpexpand\n",
      " add-apt-repository\t\t      mpic++\n",
      " addpart\t\t\t      mpicc\n",
      " addr2line\t\t\t      mpiCC\n",
      " aggregate_profile\t\t      mpicc.openmpi\n",
      " apropos\t\t\t      mpiCC.openmpi\n",
      " apt\t\t\t\t      mpic++.openmpi\n",
      " apt-add-repository\t\t      mpicxx\n",
      " apt-cache\t\t\t      mpicxx.openmpi\n",
      " apt-cdrom\t\t\t      mpiexec\n",
      " apt-config\t\t\t      mpiexec.openmpi\n",
      " apt-extracttemplates\t\t      mpif77\n",
      " apt-ftparchive\t\t\t      mpif77.openmpi\n",
      " apt-get\t\t\t      mpif90\n",
      " apt-key\t\t\t      mpif90.openmpi\n",
      " apt-mark\t\t\t      mpifort\n",
      " apt-sortpkgs\t\t\t      mpifort.openmpi\n",
      " ar\t\t\t\t      mpijavac\n",
      " arch\t\t\t\t      mpijavac.pl\n",
      " as\t\t\t\t      mpirun\n",
      " asan_symbolize\t\t\t      mpirun.openmpi\n",
      " asan_symbolize-14\t\t      mv\n",
      " autoconf\t\t\t      mysql_config\n",
      " autoheader\t\t\t      namei\n",
      " autom4te\t\t\t      nawk\n",
      " automake\t\t\t      nc-config\n",
      " automake-1.16\t\t\t      ncurses5-config\n",
      " autoreconf\t\t\t      ncurses6-config\n",
      " autoscan\t\t\t      ncursesw5-config\n",
      " autoupdate\t\t\t      ncursesw6-config\n",
      " awk\t\t\t\t      neato\n",
      " b2\t\t\t\t      neqn\n",
      " b2sum\t\t\t\t      networkctl\n",
      " base32\t\t\t\t      newgrp\n",
      " base64\t\t\t\t      nice\n",
      " basename\t\t\t      nisdomainname\n",
      " basenc\t\t\t\t      nl\n",
      " bash\t\t\t\t      nm\n",
      " bashbug\t\t\t      nns\n",
      " bcomps\t\t\t\t      nnsd\n",
      " bcp\t\t\t\t      nnslog\n",
      " bjam\t\t\t\t      nohup\n",
      " bootctl\t\t\t      nop\n",
      " browse\t\t\t\t      nproc\n",
      " bunzip2\t\t\t      nroff\n",
      " busctl\t\t\t\t      nsenter\n",
      " bzcat\t\t\t\t      nstat\n",
      " bzcmp\t\t\t\t      numfmt\n",
      " bzdiff\t\t\t\t      objcopy\n",
      " bzegrep\t\t\t      objdump\n",
      " bzexe\t\t\t\t      od\n",
      " bzfgrep\t\t\t      ogdi-config\n",
      " bzgrep\t\t\t\t      ompi-clean\n",
      " bzip2\t\t\t\t      ompi_info\n",
      " bzip2recover\t\t\t      ompi-server\n",
      " bzless\t\t\t\t      opalc++\n",
      " bzmore\t\t\t\t      opalcc\n",
      " c++\t\t\t\t      opal_wrapper\n",
      " c89\t\t\t\t      open\n",
      " c89-gcc\t\t\t      opencv_annotation\n",
      " c99\t\t\t\t      opencv_interactive-calibration\n",
      " c99-gcc\t\t\t      opencv_model_diagnostics\n",
      " captoinfo\t\t\t      opencv_version\n",
      " cat\t\t\t\t      opencv_visualisation\n",
      " catman\t\t\t\t      opencv_waldboost_detector\n",
      " cc\t\t\t\t      openssl\n",
      " ccomps\t\t\t\t      ortecc\n",
      " c++filt\t\t\t      orte-clean\n",
      " chage\t\t\t\t      orted\n",
      " chattr\t\t\t\t      orte-info\n",
      " chcon\t\t\t\t      orterun\n",
      " chfn\t\t\t\t      orte-server\n",
      " chgrp\t\t\t\t      osage\n",
      " chmod\t\t\t\t      oshc++\n",
      " choom\t\t\t\t      oshcc\n",
      " chown\t\t\t\t      oshCC\n",
      " chronic\t\t\t      oshcxx\n",
      " chrt\t\t\t\t      oshfort\n",
      " chsh\t\t\t\t      oshmem_info\n",
      " circo\t\t\t\t      oshrun\n",
      " cksum\t\t\t\t      p7zip\n",
      " clang\t\t\t\t      pack200\n",
      " clang++\t\t\t      page\n",
      " clang++-14\t\t\t      pager\n",
      " clang-14\t\t\t      pandoc\n",
      " clang-cpp-14\t\t\t      paperconf\n",
      " clear\t\t\t\t      parallel\n",
      " clear_console\t\t\t      partx\n",
      " clinfo\t\t\t\t      passwd\n",
      " cluster\t\t\t      paste\n",
      " cmake\t\t\t\t      patch\n",
      " cmp\t\t\t\t      patchwork\n",
      " col\t\t\t\t      pathchk\n",
      " colcrt\t\t\t\t      pcre2-config\n",
      " colrm\t\t\t\t      pcre-config\n",
      " column\t\t\t\t      pdb3\n",
      " combine\t\t\t      pdb3.10\n",
      " comm\t\t\t\t      pee\n",
      " compile_et\t\t\t      peekfd\n",
      " corelist\t\t\t      perl\n",
      " cp\t\t\t\t      perl5.34.0\n",
      " cpack\t\t\t\t      perl5.34-x86_64-linux-gnu\n",
      " cpan\t\t\t\t      perlbug\n",
      " cpan5.34-x86_64-linux-gnu\t      perldoc\n",
      " cpp\t\t\t\t      perlivp\n",
      " cpp-11\t\t\t\t      perlthanks\n",
      " c_rehash\t\t\t      pg_config\n",
      " csplit\t\t\t\t      pgrep\n",
      " ctest\t\t\t\t      pic\n",
      " ctstat\t\t\t\t      piconv\n",
      " curl\t\t\t\t      pidof\n",
      " curl-config\t\t\t      pidwait\n",
      " cut\t\t\t\t      pinentry\n",
      " cvtsudoers\t\t\t      pinentry-curses\n",
      " dash\t\t\t\t      pinky\n",
      " date\t\t\t\t      pkaction\n",
      " dbus-cleanup-sockets\t\t      pkcheck\n",
      " dbus-daemon\t\t\t      pkexec\n",
      " dbus-monitor\t\t\t      pkg-config\n",
      " dbus-run-session\t\t      pkgdata\n",
      " dbus-send\t\t\t      pkill\n",
      " dbus-update-activation-environment   pkttyagent\n",
      " dbus-uuidgen\t\t\t      pl2pm\n",
      " dd\t\t\t\t      pldd\n",
      " debconf\t\t\t      pmap\n",
      " debconf-apt-progress\t\t      pngfix\n",
      " debconf-communicate\t\t      png-fix-itxt\n",
      " debconf-copydb\t\t\t      pod2html\n",
      " debconf-escape\t\t\t      pod2man\n",
      " debconf-set-selections\t\t      pod2text\n",
      " debconf-show\t\t\t      pod2usage\n",
      " deb-systemd-helper\t\t      podchecker\n",
      " deb-systemd-invoke\t\t      pprof-symbolize\n",
      " delpart\t\t\t      pr\n",
      " derb\t\t\t\t      preconv\n",
      " df\t\t\t\t      prename\n",
      " dh_autotools-dev_restoreconfig       printenv\n",
      " dh_autotools-dev_updateconfig\t      printf\n",
      " diff\t\t\t\t      prlimit\n",
      " diff3\t\t\t\t      profile2mat\n",
      " diffimg\t\t\t      protoc\n",
      " dijkstra\t\t\t      prove\n",
      " dir\t\t\t\t      prtstat\n",
      " dircolors\t\t\t      prune\n",
      " dirmngr\t\t\t      ps\n",
      " dirmngr-client\t\t\t      pslog\n",
      " dirname\t\t\t      pstree\n",
      " dmesg\t\t\t\t      pstree.x11\n",
      " dnsdomainname\t\t\t      pt\n",
      " domainname\t\t\t      ptar\n",
      " dot\t\t\t\t      ptardiff\n",
      " dot2gxl\t\t\t      ptargrep\n",
      " dot_builtins\t\t\t      ptx\n",
      " dotty\t\t\t\t      pwd\n",
      " dpkg\t\t\t\t      pwdx\n",
      " dpkg-architecture\t\t      py3clean\n",
      " dpkg-buildflags\t\t      py3compile\n",
      " dpkg-buildpackage\t\t      py3versions\n",
      " dpkg-checkbuilddeps\t\t      pydoc3\n",
      " dpkg-deb\t\t\t      pydoc3.10\n",
      " dpkg-distaddfile\t\t      pygettext3\n",
      " dpkg-divert\t\t\t      pygettext3.10\n",
      " dpkg-genbuildinfo\t\t      python3\n",
      " dpkg-genchanges\t\t      python3.10\n",
      " dpkg-gencontrol\t\t      python3.10-config\n",
      " dpkg-gensymbols\t\t      python3-config\n",
      " dpkg-maintscript-helper\t      qt-faststart\n",
      " dpkg-mergechangelogs\t\t      quickbook\n",
      " dpkg-name\t\t\t      R\n",
      " dpkg-parsechangelog\t\t      ranlib\n",
      " dpkg-query\t\t\t      rbash\n",
      " dpkg-realpath\t\t\t      rcp\n",
      " dpkg-scanpackages\t\t      rdma\n",
      " dpkg-scansources\t\t      readelf\n",
      " dpkg-shlibdeps\t\t\t      readlink\n",
      " dpkg-source\t\t\t      realpath\n",
      " dpkg-split\t\t\t      rename\n",
      " dpkg-statoverride\t\t      renice\n",
      " dpkg-trigger\t\t\t      reset\n",
      " dpkg-vendor\t\t\t      resizepart\n",
      " dtplite\t\t\t      resolvectl\n",
      " du\t\t\t\t      rev\n",
      " dwp\t\t\t\t      rgrep\n",
      " echo\t\t\t\t      rlogin\n",
      " edgepaint\t\t\t      rm\n",
      " editor\t\t\t\t      rmdir\n",
      " egrep\t\t\t\t      rmic\n",
      " elfedit\t\t\t      rmid\n",
      " enc2xs\t\t\t\t      rmiregistry\n",
      " encguess\t\t\t      routef\n",
      " env\t\t\t\t      routel\n",
      " eqn\t\t\t\t      rpcgen\n",
      " errno\t\t\t\t      rrsync\n",
      " ex\t\t\t\t      Rscript\n",
      " expand\t\t\t\t      rsh\n",
      " expiry\t\t\t\t      rsync\n",
      " expr\t\t\t\t      rsync-ssl\n",
      " f77\t\t\t\t      rtstat\n",
      " f95\t\t\t\t      runcon\n",
      " factor\t\t\t\t      run-parts\n",
      " faillog\t\t\t      rview\n",
      " fallocate\t\t\t      rvim\n",
      " false\t\t\t\t      savelog\n",
      " fc-cache\t\t\t      sccmap\n",
      " fc-cat\t\t\t\t      scp\n",
      " fc-conflist\t\t\t      script\n",
      " fc-list\t\t\t      scriptlive\n",
      " fc-match\t\t\t      scriptreplay\n",
      " fc-pattern\t\t\t      sdiff\n",
      " fc-query\t\t\t      sed\n",
      " fc-scan\t\t\t      select-editor\n",
      " fc-validate\t\t\t      sensible-browser\n",
      " fdp\t\t\t\t      sensible-editor\n",
      " ffmpeg\t\t\t\t      sensible-pager\n",
      " ffplay\t\t\t\t      seq\n",
      " ffprobe\t\t\t      serialver\n",
      " fgrep\t\t\t\t      setarch\n",
      " file\t\t\t\t      setpriv\n",
      " file-rename\t\t\t      setsid\n",
      " fincore\t\t\t      setterm\n",
      " find\t\t\t\t      sfdp\n",
      " findmnt\t\t\t      sftp\n",
      " fio\t\t\t\t      sg\n",
      " fio2gnuplot\t\t\t      sh\n",
      " fio-btrace2fio\t\t\t      sha1sum\n",
      " fio-dedupe\t\t\t      sha224sum\n",
      " fio_generate_plots\t\t      sha256sum\n",
      " fio-genzipf\t\t\t      sha384sum\n",
      " fio_jsonplus_clat2csv\t\t      sha512sum\n",
      " fio-verify-state\t\t      shasum\n",
      " flock\t\t\t\t      shmemc++\n",
      " fmt\t\t\t\t      shmemcc\n",
      " fold\t\t\t\t      shmemCC\n",
      " free\t\t\t\t      shmemcxx\n",
      " funzip\t\t\t\t      shmemfort\n",
      " fuser\t\t\t\t      shmemrun\n",
      " fusermount\t\t\t      shred\n",
      " g++\t\t\t\t      shuf\n",
      " g++-11\t\t\t\t      size\n",
      " gapplication\t\t\t      skill\n",
      " gc\t\t\t\t      slabtop\n",
      " gcc\t\t\t\t      sleep\n",
      " gcc-11\t\t\t\t      slogin\n",
      " gcc-ar\t\t\t\t      snice\n",
      " gcc-ar-11\t\t\t      soelim\n",
      " gcc-nm\t\t\t\t      sort\n",
      " gcc-nm-11\t\t\t      splain\n",
      " gcc-ranlib\t\t\t      split\n",
      " gcc-ranlib-11\t\t\t      sponge\n",
      " gcov\t\t\t\t      ss\n",
      " gcov-11\t\t\t      ssh\n",
      " gcov-dump\t\t\t      ssh-add\n",
      " gcov-dump-11\t\t\t      ssh-agent\n",
      " gcov-tool\t\t\t      ssh-argv0\n",
      " gcov-tool-11\t\t\t      ssh-copy-id\n",
      " gdal-config\t\t\t      ssh-keygen\n",
      " gdbus\t\t\t\t      ssh-keyscan\n",
      " genbrk\t\t\t\t      stat\n",
      " gencat\t\t\t\t      stdbuf\n",
      " gencfu\t\t\t\t      streamzip\n",
      " gencnval\t\t\t      strings\n",
      " gendict\t\t\t      strip\n",
      " genfio\t\t\t\t      stty\n",
      " genrb\t\t\t\t      su\n",
      " geos-config\t\t\t      sudo\n",
      " geqn\t\t\t\t      sudoedit\n",
      " getconf\t\t\t      sudoreplay\n",
      " getent\t\t\t\t      sum\n",
      " getopt\t\t\t\t      sync\n",
      " gfortran\t\t\t      systemctl\n",
      " gfortran-11\t\t\t      systemd\n",
      " gio\t\t\t\t      systemd-analyze\n",
      " gio-querymodules\t\t      systemd-ask-password\n",
      " git\t\t\t\t      systemd-cat\n",
      " git-lfs\t\t\t      systemd-cgls\n",
      " git-receive-pack\t\t      systemd-cgtop\n",
      " git-shell\t\t\t      systemd-cryptenroll\n",
      " git-upload-archive\t\t      systemd-delta\n",
      " git-upload-pack\t\t      systemd-detect-virt\n",
      " glib-compile-schemas\t\t      systemd-escape\n",
      " gmake\t\t\t\t      systemd-id128\n",
      " gml2gv\t\t\t\t      systemd-inhibit\n",
      " gold\t\t\t\t      systemd-machine-id-setup\n",
      " google-pprof\t\t\t      systemd-mount\n",
      " gpasswd\t\t\t      systemd-notify\n",
      " gpg\t\t\t\t      systemd-path\n",
      " gpg2\t\t\t\t      systemd-run\n",
      " gpg-agent\t\t\t      systemd-socket-activate\n",
      " gpgcompose\t\t\t      systemd-stdio-bridge\n",
      " gpgconf\t\t\t      systemd-sysext\n",
      " gpg-connect-agent\t\t      systemd-sysusers\n",
      " gpgparsemail\t\t\t      systemd-tmpfiles\n",
      " gpgsm\t\t\t\t      systemd-tty-ask-password-agent\n",
      " gpgsplit\t\t\t      systemd-umount\n",
      " gpgtar\t\t\t\t      tabs\n",
      " gpgv\t\t\t\t      tac\n",
      " gpg-wks-server\t\t\t      tail\n",
      " gpg-zip\t\t\t      tar\n",
      " gpic\t\t\t\t      taskset\n",
      " gprof\t\t\t\t      tbl\n",
      " graphml2gv\t\t\t      tcldocstrip\n",
      " grep\t\t\t\t      tclsh\n",
      " gresource\t\t\t      tclsh8.6\n",
      " groff\t\t\t\t      tcltk-depends\n",
      " grog\t\t\t\t      tee\n",
      " grops\t\t\t\t      tempfile\n",
      " grotty\t\t\t\t      test\n",
      " groups\t\t\t\t      tic\n",
      " gsettings\t\t\t      timedatectl\n",
      " gtbl\t\t\t\t      timeout\n",
      " gtk-update-icon-cache\t\t      tload\n",
      " gunzip\t\t\t\t      tmux\n",
      " gv2gml\t\t\t\t      toe\n",
      " gv2gxl\t\t\t\t      top\n",
      " gvcolor\t\t\t      touch\n",
      " gvgen\t\t\t\t      tput\n",
      " gvmap\t\t\t\t      tr\n",
      " gvmap.sh\t\t\t      tred\n",
      " gvpack\t\t\t\t      troff\n",
      " gvpr\t\t\t\t      true\n",
      " gxl2dot\t\t\t      truncate\n",
      " gxl2gv\t\t\t\t      ts\n",
      " gzexe\t\t\t\t      tset\n",
      " gzip\t\t\t\t      tsort\n",
      " h2ph\t\t\t\t      tty\n",
      " h2xs\t\t\t\t      twopi\n",
      " h5c++\t\t\t\t      tzselect\n",
      " h5cc\t\t\t\t      ucf\n",
      " h5fc\t\t\t\t      ucfq\n",
      " hardlink\t\t\t      ucfr\n",
      " hd\t\t\t\t      uclampset\n",
      " head\t\t\t\t      uconv\n",
      " helpztags\t\t\t      ul\n",
      " hexdump\t\t\t      ulockmgr_server\n",
      " hostid\t\t\t\t      umount\n",
      " hostname\t\t\t      uname\n",
      " hostnamectl\t\t\t      uncompress\n",
      " i386\t\t\t\t      unexpand\n",
      " iconv\t\t\t\t      unflatten\n",
      " icuexportdata\t\t\t      uniq\n",
      " icuinfo\t\t\t      unlink\n",
      " id\t\t\t\t      unlzma\n",
      " ifdata\t\t\t\t      unpack200\n",
      " ifnames\t\t\t      unrar\n",
      " ifne\t\t\t\t      unrar-nonfree\n",
      " infocmp\t\t\t      unshare\n",
      " infotocap\t\t\t      unxz\n",
      " inspect\t\t\t      unzip\n",
      " install\t\t\t      unzipsfx\n",
      " instmodsh\t\t\t      update-alternatives\n",
      " ionice\t\t\t\t      update-mime-database\n",
      " ip\t\t\t\t      uptime\n",
      " ipcmk\t\t\t\t      users\n",
      " ipcrm\t\t\t\t      utmpdump\n",
      " ipcs\t\t\t\t      vdir\n",
      " ischroot\t\t\t      vi\n",
      " isutf8\t\t\t\t      vidir\n",
      " jaotc\t\t\t\t      view\n",
      " jar\t\t\t\t      vim\n",
      " jarsigner\t\t\t      vim.basic\n",
      " java\t\t\t\t      vimdiff\n",
      " javac\t\t\t\t      vimdot\n",
      " javadoc\t\t\t      vimtutor\n",
      " javap\t\t\t\t      vipe\n",
      " jcmd\t\t\t\t      vmstat\n",
      " jdb\t\t\t\t      w\n",
      " jdeprscan\t\t\t      wall\n",
      " jdeps\t\t\t\t      watch\n",
      " jexec\t\t\t\t      watchgnupg\n",
      " jfr\t\t\t\t      wc\n",
      " jhsdb\t\t\t\t      wdctl\n",
      " jimage\t\t\t\t      wget\n",
      " jinfo\t\t\t\t      whatis\n",
      " jjs\t\t\t\t      whereis\n",
      " jlink\t\t\t\t      which\n",
      " jmap\t\t\t\t      which.debianutils\n",
      " jmod\t\t\t\t      who\n",
      " join\t\t\t\t      whoami\n",
      " journalctl\t\t\t      wish\n",
      " jps\t\t\t\t      wish8.6\n",
      " jrunscript\t\t\t      write\n",
      " jshell\t\t\t\t      write.ul\n",
      " json_pp\t\t\t      X11\n",
      " jstack\t\t\t\t      x86_64\n",
      " jstat\t\t\t\t      x86_64-linux-gnu-addr2line\n",
      " jstatd\t\t\t\t      x86_64-linux-gnu-ar\n",
      " kbxutil\t\t\t      x86_64-linux-gnu-as\n",
      " kernel-install\t\t\t      x86_64-linux-gnu-c++filt\n",
      " keyring\t\t\t      x86_64-linux-gnu-cpp\n",
      " keytool\t\t\t      x86_64-linux-gnu-cpp-11\n",
      " kill\t\t\t\t      x86_64-linux-gnu-dwp\n",
      " killall\t\t\t      x86_64-linux-gnu-elfedit\n",
      " kmod\t\t\t\t      x86_64-linux-gnu-g++\n",
      " krb5-config\t\t\t      x86_64-linux-gnu-g++-11\n",
      " krb5-config.mit\t\t      x86_64-linux-gnu-gcc\n",
      " last\t\t\t\t      x86_64-linux-gnu-gcc-11\n",
      " lastb\t\t\t\t      x86_64-linux-gnu-gcc-ar\n",
      " lastlog\t\t\t      x86_64-linux-gnu-gcc-ar-11\n",
      " lcf\t\t\t\t      x86_64-linux-gnu-gcc-nm\n",
      " lckdo\t\t\t\t      x86_64-linux-gnu-gcc-nm-11\n",
      " ld\t\t\t\t      x86_64-linux-gnu-gcc-ranlib\n",
      " ld.bfd\t\t\t\t      x86_64-linux-gnu-gcc-ranlib-11\n",
      " ldd\t\t\t\t      x86_64-linux-gnu-gcov\n",
      " ld.gold\t\t\t      x86_64-linux-gnu-gcov-11\n",
      " lefty\t\t\t\t      x86_64-linux-gnu-gcov-dump\n",
      " less\t\t\t\t      x86_64-linux-gnu-gcov-dump-11\n",
      " lessecho\t\t\t      x86_64-linux-gnu-gcov-tool\n",
      " lessfile\t\t\t      x86_64-linux-gnu-gcov-tool-11\n",
      " lesskey\t\t\t      x86_64-linux-gnu-gfortran\n",
      " lesspipe\t\t\t      x86_64-linux-gnu-gfortran-11\n",
      " lexgrog\t\t\t      x86_64-linux-gnu-gold\n",
      " libnetcfg\t\t\t      x86_64-linux-gnu-gprof\n",
      " libpng16-config\t\t      x86_64-linux-gnu-ld\n",
      " libpng-config\t\t\t      x86_64-linux-gnu-ld.bfd\n",
      " link\t\t\t\t      x86_64-linux-gnu-ld.gold\n",
      " linux32\t\t\t      x86_64-linux-gnu-lto-dump-11\n",
      " linux64\t\t\t      x86_64-linux-gnu-nm\n",
      " ln\t\t\t\t      x86_64-linux-gnu-objcopy\n",
      " lneato\t\t\t\t      x86_64-linux-gnu-objdump\n",
      " lnstat\t\t\t\t      x86_64-linux-gnu-pkg-config\n",
      " locale\t\t\t\t      x86_64-linux-gnu-python3.10-config\n",
      " locale-check\t\t\t      x86_64-linux-gnu-python3-config\n",
      " localectl\t\t\t      x86_64-linux-gnu-ranlib\n",
      " localedef\t\t\t      x86_64-linux-gnu-readelf\n",
      " logger\t\t\t\t      x86_64-linux-gnu-size\n",
      " login\t\t\t\t      x86_64-linux-gnu-strings\n",
      " loginctl\t\t\t      x86_64-linux-gnu-strip\n",
      " logname\t\t\t      x86_64-pc-linux-gnu-pkg-config\n",
      " look\t\t\t\t      xargs\n",
      " ls\t\t\t\t      xauth\n",
      " lsattr\t\t\t\t      xdg-desktop-icon\n",
      " lsblk\t\t\t\t      xdg-desktop-menu\n",
      " lsb_release\t\t\t      xdg-email\n",
      " lscpu\t\t\t\t      xdg-icon-resource\n",
      " lsipc\t\t\t\t      xdg-mime\n",
      " lslocks\t\t\t      xdg-open\n",
      " lslogins\t\t\t      xdg-screensaver\n",
      " lsmem\t\t\t\t      xdg-settings\n",
      " lsmod\t\t\t\t      xml2-config\n",
      " lsns\t\t\t\t      xsel\n",
      " lsof\t\t\t\t      xsubpp\n",
      " lspgpot\t\t\t      xxd\n",
      " lto-dump-11\t\t\t      xz\n",
      " lzcat\t\t\t\t      xzcat\n",
      " lzcmp\t\t\t\t      xzcmp\n",
      " lzdiff\t\t\t\t      xzdiff\n",
      " lzegrep\t\t\t      xzegrep\n",
      " lzfgrep\t\t\t      xzfgrep\n",
      " lzgrep\t\t\t\t      xzgrep\n",
      " lzless\t\t\t\t      xzless\n",
      " lzma\t\t\t\t      xzmore\n",
      " lzmainfo\t\t\t      yes\n",
      " lzmore\t\t\t\t      ypdomainname\n",
      " m4\t\t\t\t      zcat\n",
      " make\t\t\t\t      zcmp\n",
      " makeconv\t\t\t      zdiff\n",
      " make-first-existing-target\t      zdump\n",
      " man\t\t\t\t      zegrep\n",
      " mandb\t\t\t\t      zfgrep\n",
      " manpath\t\t\t      zforce\n",
      " man.REAL\t\t\t      zgrep\n",
      " man-recode\t\t\t      zip\n",
      " mawk\t\t\t\t      zipcloak\n",
      " mcookie\t\t\t      zipdetails\n",
      " md5sum\t\t\t\t      zipgrep\n",
      " md5sum.textutils\t\t      zipinfo\n",
      " mesg\t\t\t\t      zipnote\n",
      " migrate-pubring-from-classic-gpg     zipsplit\n",
      " mingle\t\t\t\t      zless\n",
      " mispipe\t\t\t      zmore\n",
      " mkdir\t\t\t\t      znew\n",
      " mkfifo\t\t\t\t      zrun\n"
     ]
    }
   ],
   "source": [
    "!ls /bin"
   ]
  },
  {
   "cell_type": "markdown",
   "metadata": {
    "id": "y8Da6JWKQSHh"
   },
   "source": [
    "That `!ls` probably generated a large output. You can select the cell and clear the output by either:\n",
    "\n",
    "1. Clicking on the clear output button (x) in the toolbar above the cell; or\n",
    "2. Right clicking the left gutter of the output area and selecting \"Clear output\" from the context menu.\n",
    "\n",
    "Execute any other process using `!` with string interpolation from python variables, and note the result can be assigned to a variable:"
   ]
  },
  {
   "cell_type": "code",
   "execution_count": null,
   "metadata": {
    "cellView": "both",
    "colab": {
     "base_uri": "https://localhost:8080/"
    },
    "executionInfo": {
     "elapsed": 332,
     "status": "ok",
     "timestamp": 1696471882912,
     "user": {
      "displayName": "Thomas Dwyer",
      "userId": "14201548677665955615"
     },
     "user_tz": 420
    },
    "id": "zqGrv0blQSHj",
    "outputId": "6d5b52c8-6994-4637-eb54-4cfcfad2c931"
   },
   "outputs": [
    {
     "data": {
      "text/plain": [
       "['Colaboratory is great!',\n",
       " 'Colaboratory is great!',\n",
       " 'Colaboratory is great!',\n",
       " 'Colaboratory is great!']"
      ]
     },
     "execution_count": 18,
     "metadata": {},
     "output_type": "execute_result"
    }
   ],
   "source": [
    "# In https://github.com/ipython/ipython/pull/10545, single quote strings are ignored\n",
    "message = 'Colaboratory is great!'\n",
    "foo = !unset message && echo -e '{message}\\n{message}\\n'$message\"\\n$message\"\n",
    "foo"
   ]
  },
  {
   "cell_type": "markdown",
   "metadata": {
    "id": "d4L9TOP9QSHn"
   },
   "source": [
    "## Automatic completions and exploring code\n"
   ]
  },
  {
   "cell_type": "markdown",
   "metadata": {
    "id": "YEOBGG_M0miS"
   },
   "source": [
    "\n",
    "Colab provides automatic completions to explore attributes of Python objects, as well as to quickly view documentation strings. As an example, first run the following cell to import the  [`numpy`](http://www.numpy.org) module."
   ]
  },
  {
   "cell_type": "code",
   "execution_count": null,
   "metadata": {
    "cellView": "both",
    "id": "Q0JKWcmtQSHp"
   },
   "outputs": [],
   "source": [
    "import numpy as np"
   ]
  },
  {
   "cell_type": "markdown",
   "metadata": {
    "id": "1M890-bXeyYp"
   },
   "source": [
    "If you now insert your cursor after `np` and press **Period**(`.`), you will see the list of available completions within the `np` module. Completions can be opened again by using **Ctrl+Space**."
   ]
  },
  {
   "cell_type": "code",
   "execution_count": null,
   "metadata": {
    "cellView": "both",
    "colab": {
     "base_uri": "https://localhost:8080/"
    },
    "executionInfo": {
     "elapsed": 14,
     "status": "ok",
     "timestamp": 1696471882912,
     "user": {
      "displayName": "Thomas Dwyer",
      "userId": "14201548677665955615"
     },
     "user_tz": 420
    },
    "id": "j6QRIfUHQSHq",
    "outputId": "1071c0dc-d97b-49bd-ca92-1cf6289ef7f3"
   },
   "outputs": [
    {
     "data": {
      "text/plain": [
       "<module 'numpy' from '/usr/local/lib/python3.10/dist-packages/numpy/__init__.py'>"
      ]
     },
     "execution_count": 20,
     "metadata": {},
     "output_type": "execute_result"
    }
   ],
   "source": [
    "np"
   ]
  },
  {
   "cell_type": "markdown",
   "metadata": {
    "id": "g6MfomFhQSHs"
   },
   "source": [
    "If you type an open parenthesis after any function or class in the module, you will see a pop-up of its documentation string:"
   ]
  },
  {
   "cell_type": "code",
   "execution_count": null,
   "metadata": {
    "cellView": "both",
    "colab": {
     "base_uri": "https://localhost:8080/"
    },
    "executionInfo": {
     "elapsed": 11,
     "status": "ok",
     "timestamp": 1696471882912,
     "user": {
      "displayName": "Thomas Dwyer",
      "userId": "14201548677665955615"
     },
     "user_tz": 420
    },
    "id": "SD0XnrVhQSHt",
    "outputId": "7d31a163-a661-4a85-d2cc-7a833fd3e154"
   },
   "outputs": [
    {
     "data": {
      "text/plain": [
       "numpy.ndarray"
      ]
     },
     "execution_count": 21,
     "metadata": {},
     "output_type": "execute_result"
    }
   ],
   "source": [
    "np.ndarray"
   ]
  },
  {
   "cell_type": "markdown",
   "metadata": {
    "id": "GVIVDgdaRjPQ"
   },
   "source": [
    "The documentation can be opened again using **Ctrl+Shift+Space** or you can view the documentation for method by mouse hovering over the method name.\n",
    "\n",
    "When hovering over the method name the `Open in tab` link will open the documentation in a persistent pane. The `View source` link will navigate to the source code for the method."
   ]
  },
  {
   "cell_type": "markdown",
   "metadata": {
    "id": "TYTBdJXxfqiJ"
   },
   "source": [
    "## Exception Formatting"
   ]
  },
  {
   "cell_type": "markdown",
   "metadata": {
    "id": "4bqAVK-aQSHx"
   },
   "source": [
    "Exceptions are formatted nicely in Colab outputs:"
   ]
  },
  {
   "cell_type": "code",
   "execution_count": null,
   "metadata": {
    "cellView": "both",
    "colab": {
     "base_uri": "https://localhost:8080/",
     "height": 210
    },
    "executionInfo": {
     "elapsed": 7,
     "status": "error",
     "timestamp": 1696471891166,
     "user": {
      "displayName": "Thomas Dwyer",
      "userId": "14201548677665955615"
     },
     "user_tz": 420
    },
    "id": "CrJf1PEmQSHx",
    "outputId": "6e6c060f-9d48-48d3-9ebd-9e2404c98234"
   },
   "outputs": [
    {
     "ename": "ZeroDivisionError",
     "evalue": "ignored",
     "output_type": "error",
     "traceback": [
      "\u001b[0;31m---------------------------------------------------------------------------\u001b[0m",
      "\u001b[0;31mZeroDivisionError\u001b[0m                         Traceback (most recent call last)",
      "\u001b[0;32m<ipython-input-23-d93e730d8440>\u001b[0m in \u001b[0;36m<cell line: 3>\u001b[0;34m()\u001b[0m\n\u001b[1;32m      1\u001b[0m \u001b[0mx\u001b[0m \u001b[0;34m=\u001b[0m \u001b[0;36m1\u001b[0m\u001b[0;34m\u001b[0m\u001b[0;34m\u001b[0m\u001b[0m\n\u001b[1;32m      2\u001b[0m \u001b[0my\u001b[0m \u001b[0;34m=\u001b[0m \u001b[0;36m4\u001b[0m\u001b[0;34m\u001b[0m\u001b[0;34m\u001b[0m\u001b[0m\n\u001b[0;32m----> 3\u001b[0;31m \u001b[0mz\u001b[0m \u001b[0;34m=\u001b[0m \u001b[0my\u001b[0m\u001b[0;34m/\u001b[0m\u001b[0;34m(\u001b[0m\u001b[0;36m1\u001b[0m\u001b[0;34m-\u001b[0m\u001b[0mx\u001b[0m\u001b[0;34m)\u001b[0m\u001b[0;34m\u001b[0m\u001b[0;34m\u001b[0m\u001b[0m\n\u001b[0m",
      "\u001b[0;31mZeroDivisionError\u001b[0m: division by zero"
     ]
    }
   ],
   "source": [
    "x = 1\n",
    "y = 4\n",
    "z = y/(1-x)"
   ]
  },
  {
   "cell_type": "markdown",
   "metadata": {
    "id": "7cRnhv_7N4Pa"
   },
   "source": [
    "## Rich, interactive outputs\n"
   ]
  },
  {
   "cell_type": "markdown",
   "metadata": {
    "id": "Kx7gZK6D0c-o"
   },
   "source": [
    "\n",
    "Until now all of the generated outputs have been text, but they can be more interesting, like the chart below."
   ]
  },
  {
   "cell_type": "code",
   "execution_count": null,
   "metadata": {
    "colab": {
     "base_uri": "https://localhost:8080/",
     "height": 452
    },
    "executionInfo": {
     "elapsed": 573,
     "status": "ok",
     "timestamp": 1696471907565,
     "user": {
      "displayName": "Thomas Dwyer",
      "userId": "14201548677665955615"
     },
     "user_tz": 420
    },
    "id": "JVXnTqyE9RET",
    "outputId": "268614e2-83b0-4a20-f352-d8ece22101f9"
   },
   "outputs": [
    {
     "data": {
      "image/png": "[encoded data removed]",
      "text/plain": [
       "<Figure size 640x480 with 1 Axes>"
      ]
     },
     "metadata": {},
     "output_type": "display_data"
    }
   ],
   "source": [
    "import numpy as np\n",
    "from matplotlib import pyplot as plt\n",
    "\n",
    "ys = 200 + np.random.randn(100)\n",
    "x = [x for x in range(len(ys))]\n",
    "\n",
    "plt.plot(x, ys, '-')\n",
    "plt.fill_between(x, ys, 195, where=(ys > 195), facecolor='g', alpha=0.6)\n",
    "\n",
    "plt.title(\"Fills and Alpha Example\")\n",
    "plt.show()"
   ]
  },
  {
   "cell_type": "markdown",
   "metadata": {
    "id": "aro-UJgUQSH1"
   },
   "source": [
    "## Integration with Drive\n"
   ]
  },
  {
   "cell_type": "markdown",
   "metadata": {
    "id": "UU5TplDc0feA"
   },
   "source": [
    "\n",
    "Colaboratory is integrated with Google Drive. It allows you to share, comment, and collaborate on the same document with multiple people:\n",
    "\n",
    "* The **SHARE** button (top-right of the toolbar) allows you to share the notebook and control permissions set on it.\n",
    "\n",
    "* **File->Make a Copy** creates a copy of the notebook in Drive.\n",
    "\n",
    "* **File->Save** saves the File to Drive. **File->Save and checkpoint** pins the version so it doesn't get deleted from the revision history.\n",
    "\n",
    "* **File->Revision history** shows the notebook's revision history."
   ]
  },
  {
   "cell_type": "markdown",
   "metadata": {
    "id": "4hfV37gxpP_c"
   },
   "source": [
    "## Commenting on a cell\n"
   ]
  },
  {
   "cell_type": "markdown",
   "metadata": {
    "id": "7FHUxRf10ht3"
   },
   "source": [
    "\n",
    "You can comment on a Colaboratory notebook like you would on a Google Document. Comments are attached to cells, and are displayed next to the cell they refer to. If you have **comment-only** permissions, you will see a comment button on the top right of the cell when you hover over it.\n",
    "\n",
    "If you have edit or comment permissions you can comment on a cell in one of three ways:\n",
    "\n",
    "1. Select a cell and click the comment button in the toolbar above the top-right corner of the cell.\n",
    "1. Right click a text cell and select **Add a comment** from the context menu.\n",
    "3. Use the shortcut **Ctrl+Shift+M** to add a comment to the currently selected cell.\n",
    "\n",
    "You can resolve and reply to comments, and you can target comments to specific collaborators by typing *+[email address]* (e.g., `+user@domain.com`). Addressed collaborators will be emailed.\n",
    "\n",
    "The Comment button in the top-right corner of the page shows all comments attached to the notebook."
   ]
  },
  {
   "cell_type": "markdown",
   "metadata": {
    "id": "tbTY3XyGxNo_"
   },
   "source": [
    "## Handy Commands"
   ]
  },
  {
   "cell_type": "code",
   "execution_count": null,
   "metadata": {
    "id": "CsiaScAZYDjb"
   },
   "outputs": [],
   "source": [
    "%matplotlib?"
   ]
  },
  {
   "cell_type": "markdown",
   "metadata": {
    "id": "5eayT123YDjb"
   },
   "source": [
    "```%run```\n",
    "Runs an external script file as part of the cell being executed.\n",
    "For example, if %run myscript.py appears in a code cell, myscript.py will be executed by the kernel as part of that cell.\n",
    "\n",
    "```%timeit```\n",
    "Counts loops, measures and reports how long a code cell takes to execute.\n",
    "\n",
    "```%writefile```\n",
    "Save the contents of a cell to a file. For example, ```%savefile myscript.py``` would save the code cell as an external file called myscript.py.\n",
    "\n",
    "```%store```\n",
    "Save a variable for use in a different notebook.\n",
    "\n",
    "```%pwd```\n",
    "Print the directory path you're currently working in.\n",
    "\n",
    "```%%javascript```\n",
    "Runs the cell as JavaScript code."
   ]
  },
  {
   "cell_type": "markdown",
   "metadata": {
    "id": "5UQpR4AaXn1D"
   },
   "source": [
    "# Writing Math Equations with Latex\n",
    "\n",
    "[en.wikibooks.org/wiki/LaTeX/Mathematics](https://en.wikibooks.org/wiki/LaTeX/Mathematics)"
   ]
  },
  {
   "cell_type": "markdown",
   "metadata": {
    "id": "pvZvi2sp2tuI"
   },
   "source": [
    "\n",
    "The ```\\frac```, ```\\dfrac```, and ```\\tfrac``` commands. The ```\\frac``` command takes two arguments numerator and denominator and typesets them in normal fraction form. Use ```\\dfrac``` or ```\\tfrac``` to overrule LATEX's guess about the proper size to use for the fraction's contents ```(t = text style, d = display style)```.\n",
    "\n",
    "```\n",
    "\\begin{equation}\n",
    "\\frac{1}{k}\\log_2c(f),\\quad\\dfrac{1}{k}\\log_2 c(f),\n",
    "\\end{equation}\n",
    "```\n",
    "\\begin{equation}\n",
    "\\frac{1}{k}\\log_2c(f),\\quad\\dfrac{1}{k}\\log_2 c(f),\n",
    "\\end{equation}\n"
   ]
  },
  {
   "cell_type": "markdown",
   "metadata": {
    "id": "o5ZhVYO0l6fy"
   },
   "source": [
    "**Text Alignment**\n",
    "\n",
    "\\begin{equation}\n",
    "\\cfrac{1}{\\sqrt{2}+\n",
    "\\cfrac{1}{\\sqrt{2}+\n",
    "\\cfrac{1}{\\sqrt{2}+\\dotsb\n",
    "}}}\n",
    "\\end{equation}\n",
    "\n",
    "\n",
    "\\begin{equation}\n",
    "\\cfrac[r]{1}{\\sqrt{2}+\n",
    "\\cfrac[r]{1}{\\sqrt{2}+\n",
    "\\cfrac[r]{1}{\\sqrt{2}+\\dotsb\n",
    "}}}\n",
    "\\end{equation}\n",
    "\n",
    "This produces better-looking results than straightforward use of \\frac. Left or right placement of any of the numerators is accomplished by using \\cfrac[l] or \\cfrac[r] instead of \\cfrac."
   ]
  },
  {
   "cell_type": "markdown",
   "metadata": {
    "id": "GObdJiv9iFrp"
   },
   "source": [
    "**Text Alignment**\n",
    "\n",
    "\\begin{multline}\n",
    "a+b+c+d+e+f\\\\\n",
    "+i+j+k+l+m+n\\\\\n",
    "+o+p+q+r+s\n",
    "\\end{multline}\n",
    "  \n",
    "\n",
    "\\begin{gather}\n",
    "a_1=b_1+c_1\\\\\n",
    "a_2=b_2+c_2-d_2+e_2\n",
    "\\end{gather}\n",
    "\n",
    "\\begin{align}\n",
    "a_1& =b_1+c_1\\\\\n",
    "a_2& =b_2+c_2-d_2+e_2\n",
    "\\end{align}\n",
    "\n",
    "\n",
    "\n",
    "\\begin{align}\n",
    "a_{11}& =b_{11}&\n",
    "a_{12}& =b_{12}\\\\\n",
    "a_{21}& =b_{21}&\n",
    "a_{22}& =b_{22}+c_{22}\n",
    "\\end{align}\n",
    "\n",
    "\n",
    "\n",
    "\\begin{alignat}{2}\n",
    "a_1& =b_1+c_1& &+e_1-f_1\\\\\n",
    "a_2& =b_2+c_2&{}-d_2&+e_2\n",
    "\\end{alignat}\n",
    "\n",
    "\n",
    "\n",
    "\\begin{align}\n",
    "a_{11}& =b_{11}&\n",
    "a_{12}& =b_{12}\\\\\n",
    "a_{21}& =b_{21}&\n",
    "a_{22}& =b_{22}+c_{22}\n",
    "\\end{align}\n"
   ]
  },
  {
   "cell_type": "markdown",
   "metadata": {
    "id": "s6CHq6Up7DFq"
   },
   "source": [
    "```\n",
    "$$\n",
    "  \\int_0^\\infty \\frac{x^3}{e^x-1}\\,dx = \\frac{\\pi^4}{15}\n",
    "$$\n",
    "```\n",
    "\n",
    "$$\n",
    "  \\int_0^\\infty \\frac{x^3}{e^x-1}\\,dx = \\frac{\\pi^4}{15}\n",
    "$$"
   ]
  },
  {
   "cell_type": "markdown",
   "metadata": {
    "id": "Mvk8XROSICE3"
   },
   "source": [
    "\n",
    "```\n",
    "$y=x^2$\n",
    "\n",
    "$e^{i\\pi} + 1 = 0$\n",
    "```\n",
    "\n",
    "> $y=x^2$\n",
    "\n",
    "> $e^{i\\pi} + 1 = 0$\n",
    "\n",
    "```\n",
    "$e^x=\\sum_{i=0}^\\infty \\frac{1}{i!}x^i$\n",
    "\n",
    "$\\frac{n!}{k!(n-k)!} = {n \\choose k}$\n",
    "```\n",
    ">$e^x=\\sum_{i=0}^\\infty \\frac{1}{i!}x^i$\n",
    "\n",
    ">$\\frac{n!}{k!(n-k)!} = {n \\choose k}$\n",
    "\n",
    "```\n",
    "$A_{m,n} =\n",
    " \\begin{pmatrix}\n",
    "  a_{1,1} & a_{1,2} & \\cdots & a_{1,n} \\\\\n",
    "  a_{2,1} & a_{2,2} & \\cdots & a_{2,n} \\\\\n",
    "  \\vdots  & \\vdots  & \\ddots & \\vdots  \\\\\n",
    "  a_{m,1} & a_{m,2} & \\cdots & a_{m,n}\n",
    " \\end{pmatrix}$\n",
    "```\n",
    ">>\n",
    "$A_{m,n} =\n",
    " \\begin{pmatrix}\n",
    "  a_{1,1} & a_{1,2} & \\cdots & a_{1,n} \\\\\n",
    "  a_{2,1} & a_{2,2} & \\cdots & a_{2,n} \\\\\n",
    "  \\vdots  & \\vdots  & \\ddots & \\vdots  \\\\\n",
    "  a_{m,1} & a_{m,2} & \\cdots & a_{m,n}\n",
    " \\end{pmatrix}$\n"
   ]
  },
  {
   "cell_type": "markdown",
   "metadata": {
    "id": "OYHU8qjw4XGl"
   },
   "source": [
    "```\n",
    "\\begin{equation}\n",
    "\\frac{1}{k}\\log_2 c(f),\\quad\\dfrac{1}{k}\\log_2 c(f),\n",
    "\\quad\\tfrac{1}{k}\\log_2 c(f)\n",
    "\\end{equation}\n",
    "```\n",
    "\n",
    "\\begin{equation}\n",
    "\\frac{1}{k}\\log_2 c(f),\\quad\\dfrac{1}{k}\\log_2 c(f),\n",
    "\\quad\\tfrac{1}{k}\\log_2 c(f)\n",
    "\\end{equation}\n",
    "\n",
    "```\n",
    "\\begin{equation}\n",
    "V=\\frac{dM}{dx}\n",
    "\\end{equation}\n",
    "```\n",
    "\\begin{equation}\n",
    " V=\\frac{dM}{dx}\n",
    " \\end{equation}\n",
    "\n",
    "8.4. The **\\sideset** command. There’s also a command called \\sideset, for a rather special purpose: putting symbols at the subscript and superscript corners of a symbol l\n",
    "```\n",
    "\\begin{equation}\\sideset{}{’}\n",
    "\\sum_{n<k,\\;\\text{$n$ odd}} nE_n\\end{equation}\n",
    "```\n",
    "\n",
    "\\begin{equation}\\sideset{}{’}\n",
    "\\sum_{n<k,\\;\\text{$n$ odd}} nE_n\\end{equation}\n",
    "\n"
   ]
  },
  {
   "cell_type": "markdown",
   "metadata": {
    "id": "XnY29rzP6GIY"
   },
   "source": [
    "```\n",
    "$$\n",
    "  \\int_0^\\infty \\frac{x^3}{e^x-1}\\,dx = \\frac{\\pi^4}{15}\n",
    "$$\n",
    "```\n",
    "$$\n",
    "  \\int_0^\\infty \\frac{x^3}{e^x-1}\\,dx = \\frac{\\pi^4}{15}\n",
    "$$"
   ]
  },
  {
   "cell_type": "markdown",
   "metadata": {
    "id": "_17ph5NiINag"
   },
   "source": [
    "$\\sum$ ```\\sum```  $\\prod$ ```\\prod```   $\\coprod$ ```\\coprod```\n",
    "\n",
    "$\\bigodot$ ```\\bigodot```  $\\bigoplus$ ```\\bigoplus```  $\\bigcup$ ```\\bigcup```\n",
    "\n",
    "$\\bigotimes$ ```\\bigotimes```  $\\bigcap$ ```\\bigcap``` $\\biguplus$ ```\\biguplus```\n",
    "\n",
    "$\\bigsqcup$ ```\\bigsqcup ``` $\\bigvee$ ```\\bigvee``` $\\bigwedge$ ```\\bigwedge ```\n",
    "\n",
    "$\\int$ ```\\int``` $\\oint$ ```\\oint```  $\\iint$ ```\\iint``` $\\iiint$ ```\\iiint```  $\\iiiint$ ```\\iiiint```\n",
    "\n",
    "$\\idotsint$ ```\\idotsint```  $\\cdots$ ```\\cdots```\n",
    "\n",
    "\n"
   ]
  },
  {
   "cell_type": "markdown",
   "metadata": {
    "id": "b3W5cpYjOhfj"
   },
   "source": [
    "$\\exists$ ```\\exists```  $\\nexists$ -```\\nexists```\n",
    "\n",
    "$\\rightarrow$ ```\\rightarrow```\n",
    "$\\Rightarrow$ ```\\Rightarrow```\n",
    "$\\implies$ ```\\implies```\n",
    "$\\mapsto$ ```\\mapsto```\n",
    "\n",
    "\n",
    "$\\leftarrow$ ```\\leftarrow  ```\n",
    "$\\impliedby$ ```\\impliedby```\n",
    "\n",
    "$\\rightleftharpoons$ ```\\rightleftharpoons```\n",
    "$\\Leftrightarrow$ ```\\Leftrightarrow```\n",
    "$\\iff$ ```\\iff```\n",
    "\n",
    "$\\forall$ ```\\forall```\n",
    "$\\lor$ ```\\lor```\n",
    "$\\land$ ```\\land```\n",
    "\n",
    "$\\leq $ ```\\leq```\n",
    "$\\geq $ ```\\geq```\n",
    "$\\ll $ ```\\ll```\n",
    "$\\gg $ ```\\gg```\n",
    "\n",
    "---\n",
    "\n",
    "$\\ne$ ```\\neg```\n",
    "$\\doteq $ ```\\doteq```\n",
    "$\\approx $ ```\\approx```\n",
    "$\\neq $ ```\\neq```\n",
    "$\\sim $ ```\\sim```\n",
    "\n",
    "$\\top$ ```\\top```\n",
    "$\\bot$ ```\\bot```\n",
    "\n",
    "$\\perp $ ```\\perp```\n",
    "$\\vdash $ ```\\vdash```\n",
    "$\\dashv $ ```\\dashv```\n",
    "\n",
    "$\\angle$ ```\\angle```\n",
    "$\\emptyset$ ```\\emptyset```\n",
    "`$\\varnothing$ ```\\varnothing```\n",
    "\n",
    "$\\parallel $ ```\\parallel```\n",
    "$\\nparallel $ ```\\nparallel```\n",
    "\n",
    "$\\asymp $ ```\\asymp```\n",
    "$\\bowtie $ ```\\bowtie```\n",
    "\n",
    "$\\equiv $ ```\\equiv```\n",
    "$\\propto $ ```\\propto```\n",
    "\n",
    "$\\cap$ ```\\cap```\n",
    "$\\cup$ ```\\cup```\n",
    "$\\supset$ ```\\supset```\n",
    "$\\ni$ ```\\ni```\n",
    "\n",
    "$\\in$ ```\\in```\n",
    "$\\notin$ ```\\notin```\n",
    "$\\subset$ ```\\subset```\n",
    "\n",
    "$\\subset $ ```\\subset```\n",
    "$\\supset $ ```\\supset```\n",
    "\n",
    "$\\in $ ```\\in```\n",
    "$\\ni $ ```\\ni```\n",
    "$\\subseteq $ ```\\subseteq```\n",
    "$\\supseteq $ ```\\supseteq```\n",
    "$\\cong $ ```\\cong```\n",
    "\n",
    "$\\smile $ ```\\smile```\n",
    "$\\frown $ ```\\frown```\n",
    "\n",
    "$\\nsubseteq $ ```\\nsubseteq```\n",
    "$\\nsupseteq $ ```\\nsupseteq```\n",
    "$\\simeq $ ```\\simeq```\n",
    "$\\models $ ```\\models```\n",
    "$\\notin $ ```\\notin```\n",
    "\n",
    "\n",
    "\n",
    "\n",
    "\n",
    "\n",
    "$\\sphericalangle $ ```\\sphericalangle```\n",
    "$\\measuredangle $ ```\\measuredangle```\n",
    "$\\therefore $ ```\\therefore```\n",
    "$\\because $ ```\\because```\n",
    "\n",
    "\n",
    "\n",
    "\n"
   ]
  },
  {
   "cell_type": "markdown",
   "metadata": {
    "id": "n0hD7EBIOhW5"
   },
   "source": [
    "\n",
    "$\\partial$ ```\\partial```\n",
    "$\\imath$ ```\\imath```\n",
    "$\\Re$ ```\\Re```\n",
    "$\\nabla$ ```\\nabla```\n",
    "$\\jmath$ ```\\jmath```\n",
    "$\\Im$ ```\\Im```\n",
    "$\\infty$ ```\\infty```\n"
   ]
  },
  {
   "cell_type": "markdown",
   "metadata": {
    "id": "IlUjb4-aSE72"
   },
   "source": [
    "$ \\mathbb{R^2} $\n",
    "```$\\mathbb{R^2}$```"
   ]
  },
  {
   "cell_type": "markdown",
   "metadata": {
    "id": "5Y3CStVkLxqt"
   },
   "source": [
    "* [Github Markdown basics](https://help.github.com/articles/markdown-basics/)\n",
    "* [Github flavored Markdown](https://help.github.com/articles/github-flavored-markdown/)\n",
    "* [Original Markdown spec: Syntax](http://daringfireball.net/projects/markdown/syntax)\n",
    "* [Original Markdown spec: Basics](http://daringfireball.net/projects/markdown/basics)\n",
    "* [marked.js library used by Colab](https://github.com/chjj/marked)\n",
    "* [LaTex mathematics for equations](https://en.wikibooks.org/wiki/LaTeX/Mathematics)"
   ]
  },
  {
   "cell_type": "markdown",
   "metadata": {
    "id": "ZRvULogHqiu9"
   },
   "source": [
    "# Introduction to LaTeX\n",
    "\n",
    "In this tutorial, you will learn some of the basics on how to use $\\LaTeX$ to display equations in Jupyter notebooks. For looking up symbols you may need, you can use any of the many [cheat sheets](http://users.dickinson.edu/~richesod/latex/latexcheatsheet.pdf) you can find by asking Google. I have provided a few that will come up often in this course at the [end of this lesson](#Useful-LaTeX-symbols-for-BE/Bi-103).\n",
    "\n",
    "In this lesson, whenever a LaTeX expression is shown, the raw Markdown/LaTeX is shown beneath it. (The word LaTeX is generally stylized as $\\LaTeX$, but I get tired of reading that, so going forward, I will just write \"LaTeX.\")"
   ]
  },
  {
   "cell_type": "markdown",
   "metadata": {
    "id": "aY5Udbk7qivC"
   },
   "source": [
    "## Basic inline LaTeX\n",
    "\n",
    "To embed LaTeX within text, simply encapsulate the LaTeX portions in dollar signs (`$`). MathJax takes care of the rest. As an example, consider the sentence below and the markdown/LaTeX code to render it.\n",
    "\n",
    "Einstein told us that $E = mc^2$.\n",
    "\n",
    "    Einstein told us that $E = mc^2$.\n",
    "\n",
    "Notice how the equation is properly rendered, with mathematical variables in italics. Note also how `^2` was used to raise to a power. If the power has more than one character in it, it should be enclosed in braces (`{}`).  In fact, braces are used to generally group symbols in LaTeX.\n",
    "\n",
    "Euler told us that $\\mathrm{e}^{i \\pi} - 1 = 0$.\n",
    "\n",
    "    Euler told us that $\\mathrm{e}^{i \\pi} - 1 = 0$.\n",
    "\n",
    "Aside from the grouping braces, there are several other syntactical items of note. First, notice that I made the special character $\\pi$ with `\\pi`. In general, a backward slash precedes special symbols or commands in LaTeX. If we want another Greek letter, like $\\theta$, we use `\\theta`. Now, also note that I used \"`\\mathrm{e}`\" for the base of the natural logarithm.  I was signaling to LaTeX that I wanted the character written in Roman font, and not italics, so I used `\\mathrm`. Anything in the braces following the function `\\mathrm` is rendered in Roman font. Note the difference.\n",
    "\n",
    "This is $e$. This is $\\mathrm{e}$\n",
    "\n",
    "    This is $e$. This is $\\mathrm{e}$.\n",
    "\n",
    "Now, back to grouping things in braces. We can do similar groupings using braces with with subscripts.\n",
    "\n",
    "The dot product of two $n$-vectors is $\\mathbf{a} \\cdot \\mathbf{b} = \\sum_{i=1}^n a_i b_i$.\n",
    "\n",
    "    The dot product of two $n$-vectors is $\\mathbf{a} \\cdot \\mathbf{b} = \\sum_{i=1}^n a_i b_i$.\n",
    "\n",
    "Here, I have used `$\\mathbf{a}$` to make the character `a` boldface, denoting a vector. Note that we denote subscripts with an underscore. Notice also that the bounds of the sum use the same underscore and caret notation as for subscripts and superscripts.  "
   ]
  },
  {
   "cell_type": "markdown",
   "metadata": {
    "id": "oP6gYGmDqivE"
   },
   "source": [
    "## Displaying equations on separate lines\n",
    "\n",
    "The bounds on the summation in the above example may look a little funny to you because they are not above and below the summation symbol.  This is because this particular equation is written inline.  If we had separated it from the text, it renders differently.\n",
    "\n",
    "We can make an equation appear centered on a new line, like\n",
    "\n",
    "\\begin{align}\n",
    "\\mathbf{a} \\cdot \\mathbf{b} = \\sum_{i=1}^n a_i b_i.\n",
    "\\end{align}\n",
    "\n",
    "\n",
    "    We can make an equation appear centered on a new line, like\n",
    "\n",
    "    \\begin{align}\n",
    "        \\mathbf{a} \\cdot \\mathbf{b} = \\sum_{i=1}^n a_i b_i.\n",
    "    \\end{align}\n",
    "\n",
    "The `align` environment in LaTeX specifies that you want centered equations, separated from the text. It is called `align` because it allows you to align the equations. You separate lines in the equations with a double backslash (`//`).  Insert an ampersand (`&`) in each line at the alignment point. All equations will be aligned at the location of the ampersand symbols (and, of course, the ampersands will not appear in the rendered equations).\n",
    "\n",
    "For a three-vector consisting of $x$, $y$, and $z$ components,\n",
    "\n",
    "\\begin{align}\n",
    "\\mathbf{a} \\cdot \\mathbf{b} &= \\sum_{i=1}^n a_i b_i \\\\\n",
    "&= a_x b_x + a_y b_y + a_z b_z.\n",
    "\\end{align}\n",
    "\n",
    "    For a three-vector consisting of $x$, $y$, and $z$ components,\n",
    "\n",
    "    \\begin{align}\n",
    "        \\mathbf{a} \\cdot \\mathbf{b} &= \\sum_{i=1}^n a_i b_i \\\\\n",
    "        &= a_x b_x + a_y b_y + a_z b_z.\n",
    "    \\end{align}\n",
    "\n",
    "Note that I always put an extra blank line before the `\\begin{align}` statement. This is not necessary, but I think things look better with the extra space."
   ]
  },
  {
   "cell_type": "markdown",
   "metadata": {
    "id": "pt5f0booqivF"
   },
   "source": [
    "## Fractions (and an example of fine-tuning)\n",
    "\n",
    "To display fractional quantities, we use the `\\frac{}{}` command. `\\frac` is always followed by two sets of braces; the numerator is contained in the first, and the denominator is contained in the second. As an example, we can write an equation you will become intimately familiar with if you take the second term of this course,\n",
    "\n",
    "\\begin{align}\n",
    "P(A \\mid B) = \\frac{P(B \\mid A) \\, P(A)}{P(B)}\n",
    "\\end{align}\n",
    "\n",
    "    \\begin{align}\n",
    "        P(A \\mid B) = \\frac{P(B \\mid A) \\, P(A)}{P(B)}\n",
    "    \\end{align}\n",
    "\n",
    "The right hand side has a nicely-formatted fraction. I did a little extra fine-tuning in this equation.  I'll show the equation again without the fine-tuning, which used the `\\mid` and `\\,` commands.\n",
    "\n",
    "\\begin{align}\n",
    "P(A | B) = \\frac{P(B | A) P(A)}{P(B)}.\n",
    "\\end{align}\n",
    "\n",
    "    \\begin{align}\n",
    "        P(A | B) = \\frac{P(B | A) P(A)}{P(B)}.\n",
    "    \\end{align}\n",
    "\n",
    "First, the `\\mid` command should be used in conditional probabilities. Just using a vertical bar (`|`) results in crowding. Similarly, I used the `\\,` command to insert a little extra space between the two probabilities in the numerator. This makes the equation a bit easier to read. This `\\,` operator is especially important when defining integrals. We can put a little space between the $\\mathrm{d}x$ and the integrand.\n",
    "\n",
    "\\begin{align}\n",
    "\\text{good: } &\\int_0^{2\\pi} \\mathrm{d}x \\, \\sin x. \\\\[1em]\n",
    "\\text{bad: } &\\int_0^{2\\pi} \\mathrm{d}x \\sin x.\n",
    "\\end{align}\n",
    "\n",
    "    \\begin{align}\n",
    "        \\text{good: } &\\int_0^{2\\pi} \\mathrm{d}x \\, \\sin x. \\\\[1em]\n",
    "        \\text{bad: } &\\int_0^{2\\pi} \\mathrm{d}x \\sin x.\n",
    "    \\end{align}\n",
    "\n",
    "Note that I inserted extra space after the new line. Specifically, `\\\\[1em]` instructs LaTeX to insert a space equation to the width of an M character between the equations. I often do this to keep things clear.\n",
    "\n",
    "It is also very important to note that I used $\\sin$ and not $sin$. Mathematical functions should be in Roman font and are invoked with a backslash. Otherwise, the characters are interpreted as separate variables. To be clear:\n",
    "\n",
    "\\begin{align}\n",
    "\\text{good: } &\\sin x. \\\\[1em]\n",
    "\\text{bad: } & sin x.\n",
    "\\end{align}\n",
    "\n",
    "    \\begin{align}\n",
    "        \\text{good: } &\\sin x. \\\\[1em]\n",
    "        \\text{bad: } & sin x.\n",
    "    \\end{align}\n",
    "\n",
    "Finally, notice that I was able to put text in the equation like this: `\\text{good: }`."
   ]
  },
  {
   "cell_type": "markdown",
   "metadata": {
    "id": "BxExsK4qqivG"
   },
   "source": [
    "## Grouping operators (and more fine-tuning)\n",
    "\n",
    "Compare the following equations.\n",
    "\n",
    "\\begin{align}\n",
    "\\text{good: } &\\sum_{i=1}^n i^3 = \\left(\\sum_{i=1}^n i\\right)^2. \\\\[1em]\n",
    "\\text{bad: }  &\\sum_{i=1}^n i^3 = (\\sum_{i=1}^n i)^2.\n",
    "\\end{align}\n",
    "\n",
    "    \\begin{align}\n",
    "        \\text{good: } &\\sum_{i=1}^n i^3 = \\left(\\sum_{i=1}^n i\\right)^2. \\\\[1em]\n",
    "        \\text{bad: }  &\\sum_{i=1}^n i^3 = (\\sum_{i=1}^n i)^2.\n",
    "    \\end{align}\n",
    "\n",
    "In the second equation, I did not use the `\\left(` and `\\right)` construction for parentheses and the result looks pretty awful. In LaTeX, the height of anything that is encapsulated by `\\left(` and `\\right)` scales the parentheses appropriately. You can use `\\left` and `\\right` with many symbols. An important example is `\\left\\{`. Note that to display braces in an equation, you have to use `\\{` because just a plain brace (`{`) has a different meaning.\n",
    "\n",
    "(By the way, that equation is true, and pretty amazing. It says that the sum of the first $n$ *cubes* of integers is equal to the sum of the first $n$ integers *squared*!)\n",
    "\n",
    "Finally, if you use `\\left.` or `\\right.`, LaTeX will simply scale the opposite symbol to match the height of the text, but will suppress printing the other. For example,\n",
    "\n",
    "\\begin{align}\n",
    "\\left. \\frac{1}{x + 2} \\right|_0^2 = -\\frac{1}{4}.\n",
    "\\end{align}\n",
    "\n",
    "    \\begin{align}\n",
    "        \\left. \\frac{1}{x + 2} \\right|_0^2 = -\\frac{1}{4}.\n",
    "    \\end{align}\n",
    "\n",
    "This is also useful if you are going to use `/` for a division operation. Compare the following.\n",
    "\n",
    "\\begin{align}\n",
    "\\text{good: } & \\left. x^2 \\middle/ y^2 \\right. \\\\[1em]\n",
    "\\text{bad: } & x^2 / y^2\n",
    "\\end{align}\n",
    "\n",
    "    \\begin{align}\n",
    "        \\text{good: } & \\left. x^2 \\middle/ y^2 \\right. \\\\[1em]\n",
    "        \\text{bad: } & x^2 / y^2\n",
    "    \\end{align}\n",
    "\n",
    "Here, we used the `\\middle` operator to scale the length of the division sign."
   ]
  },
  {
   "cell_type": "markdown",
   "metadata": {
    "id": "vbq7PK2IqivG"
   },
   "source": [
    "## Matrices and arrays\n",
    "On occasion, you'll need to express matrices. This is most easily done using the `pmatrix` environment.  For example, a covariance matrix for two variables might be written as\n",
    "\n",
    "\\begin{align}\n",
    "\\sigma^2 = \\begin{pmatrix}\n",
    "\\sigma_1^2 & \\sigma_{12} \\\\\n",
    "\\sigma_{12} & \\sigma_2^2\n",
    "\\end{pmatrix}.\n",
    "\\end{align}\n",
    "\n",
    "    \\begin{align}\n",
    "        \\sigma^2 = \\begin{pmatrix}\n",
    "        \\sigma_1^2 & \\sigma_{12} \\\\\n",
    "        \\sigma_{12} & \\sigma_2^2\n",
    "        \\end{pmatrix}.\n",
    "    \\end{align}\n",
    "\n",
    "Once in the `pmatrix` environment, each row has entries separated by an ampersand. The row ends with a `\\\\`.  Each row must have the same number of entries.\n",
    "\n",
    "You may also need to represent an values stacked on top of each other. For example, we might specify a piecewise linear function like this.\n",
    "\n",
    "\\begin{align}\n",
    "\\text{rectifier}(x) = \\left\\{\n",
    "\\begin{array}{cl}\n",
    "0 & x \\le 0 \\\\\n",
    "x & x > 0.\n",
    "\\end{array}\n",
    "\\right.\n",
    "\\end{align}\n",
    "\n",
    "    \\begin{align}\n",
    "        \\text{rectifier}(x) = \\left\\{\n",
    "        \\begin{array}{cl}\n",
    "        0 & x \\le 0 \\\\\n",
    "        x & x > 0.\n",
    "        \\end{array}\n",
    "        \\right.\n",
    "    \\end{align}\n",
    "\n",
    "The `array` environment allows arrays of text. The `{cl}` after `\\begin{array}` indicates that two columns are wanted, with the first column being centered and the second being left-aligned. If we chose instead `{lr}`, the first column is left-aligned and the second column is right-aligned."
   ]
  },
  {
   "cell_type": "markdown",
   "metadata": {
    "id": "IrG-rCuQqivH"
   },
   "source": [
    "## Useful LaTeX symbols for BE/Bi 103\n",
    "Following is a list of some symbols you may find useful in this class.\n",
    "\n",
    "LaTeX | symbol\n",
    "--- | :---:\n",
    "`\\approx` | $\\approx$\n",
    "`\\sim` | $\\sim$\n",
    "`\\propto` | $\\propto$\n",
    "`\\le` | $\\le$\n",
    "`ge` | $\\ge$\n",
    "`\\pm` | $\\pm$\n",
    "`\\in` | $\\in$\n",
    "`\\ln` | $\\ln$\n",
    "`\\exp` | $\\exp$\n",
    "`\\prod_{i\\in D}` | ${\\displaystyle \\prod_{i\\in D}}$\n",
    "`\\sum_{i\\in D}` | ${\\displaystyle \\sum_{i\\in D}}$\n",
    "`\\frac{\\partial f}{\\partial x}` | ${\\displaystyle \\frac{\\partial f}{\\partial x}}$\n",
    "`\\sqrt{x}` | $\\sqrt{x}$\n",
    "`\\bar{x}` | $\\bar{x}$\n",
    "`\\langle x \\rangle` | $\\langle x \\rangle$\n",
    "`\\left\\langle \\frac{x}{y} \\right\\rangle` | $\\left\\langle \\frac{x}{y} \\right\\rangle$"
   ]
  }
 ],
 "metadata": {
  "colab": {
   "provenance": [],
   "toc_visible": true
  },
  "kernelspec": {
   "display_name": "Python 3",
   "language": "python",
   "name": "python3"
  },
  "language_info": {
   "codemirror_mode": {
    "name": "ipython",
    "version": 3
   },
   "file_extension": ".py",
   "mimetype": "text/x-python",
   "name": "python",
   "nbconvert_exporter": "python",
   "pygments_lexer": "ipython3",
   "version": "3.9.13"
  },
  "widgets": {
   "application/vnd.jupyter.widget-state+json": {
    "state": {},
    "version_major": 2,
    "version_minor": 0
   }
  }
 },
 "nbformat": 4,
 "nbformat_minor": 4
}
