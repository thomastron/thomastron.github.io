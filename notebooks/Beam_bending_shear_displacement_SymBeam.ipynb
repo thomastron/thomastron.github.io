{
 "cells": [
  {
   "cell_type": "markdown",
   "metadata": {
    "id": "ICR-1oxNyukr"
   },
   "source": [
    "# SymBeam"
   ]
  },
  {
   "cell_type": "markdown",
   "metadata": {
    "id": "AxO26hiHmAue"
   },
   "source": [
    "[SymBeam](https://github.com/amcc1996/symbeam) is a pedagogical Python package for bending diagrams computation, aimed at Mechanical, Civil and Industrial Engineering students."
   ]
  },
  {
   "cell_type": "code",
   "execution_count": 1,
   "metadata": {
    "id": "lp7uLlGAzEXJ"
   },
   "outputs": [],
   "source": [
    "#!pip install symbeam # uncomment the line if you need to install symbeam to Colab\n",
    "%matplotlib inline\n",
    "from symbeam import beam"
   ]
  },
  {
   "cell_type": "code",
   "execution_count": 2,
   "metadata": {
    "executionInfo": {
     "elapsed": 238,
     "status": "ok",
     "timestamp": 1696808259337,
     "user": {
      "displayName": "Thomas Dwyer",
      "userId": "14201548677665955615"
     },
     "user_tz": 420
    },
    "id": "EBTsmNfgYPV3"
   },
   "outputs": [],
   "source": [
    "# Define the length of the beam\n",
    "new=beam(length = 'L')\n",
    "\n",
    "# Set the Young modulus and second moment of area of beam segments\n",
    "new.set_young(x_start = 0, x_end = 'L', value = 210e6)\n",
    "new.set_inertia(x_start = 0, x_end = 'L', value = 5e-6)\n",
    "\n",
    "# Add supports. Options are (pin, roller, hinge and fixed)\n",
    "new.add_support(x_coord = 0, support_type = 'fixed')\n",
    "new.add_support(x_coord = 'L/2', support_type = 'hinge')\n",
    "new.add_support(x_coord = '3*L/4', support_type = 'roller')\n",
    "\n",
    "# Add external loads. Loads can be (point_force, point_moment, or distributed_load)\n",
    "new.add_point_load(x_coord = 'L', value = '-P')\n",
    "new.add_point_moment(x_coord = 'L/4', value = 'P*L')\n",
    "new.add_distributed_load(x_start = 0, x_end = 'L/2', expression = '-P * x / L')"
   ]
  },
  {
   "cell_type": "code",
   "execution_count": 3,
   "metadata": {
    "colab": {
     "base_uri": "https://localhost:8080/",
     "height": 0
    },
    "executionInfo": {
     "elapsed": 1932,
     "status": "ok",
     "timestamp": 1696808239871,
     "user": {
      "displayName": "Thomas Dwyer",
      "userId": "14201548677665955615"
     },
     "user_tz": 420
    },
    "id": "AyZDSZJCztY7",
    "outputId": "a19a2d16-d907-4c3c-e557-e2c230881ae6"
   },
   "outputs": [
    {
     "name": "stdout",
     "output_type": "stream",
     "text": [
      "\n",
      "                                    Beam points                                    \n",
      "===================================================================================\n",
      "     Coordinate              Type                 Load                Moment       \n",
      "-----------------------------------------------------------------------------------\n",
      "         0                  Fixed                  0                    0          \n",
      "        L/4            Continuity point            0                   L*P         \n",
      "        L/2                 Hinge                  0                    0          \n",
      "       3*L/4                Roller                 0                    0          \n",
      "         L             Continuity point            -P                   0          \n",
      "===================================================================================\n",
      "\n",
      "\n",
      "                                   Beam segments                                   \n",
      "===================================================================================\n",
      "        Span            Young modulus           Inertia          Distributed load  \n",
      "-----------------------------------------------------------------------------------\n",
      " [   0   -  L/4  ]     210000000.000000   5.00000000000000e-6         -P*x/L       \n",
      " [  L/4  -  L/2  ]     210000000.000000   5.00000000000000e-6         -P*x/L       \n",
      " [  L/2  - 3*L/4 ]     210000000.000000   5.00000000000000e-6           0          \n",
      " [ 3*L/4 -   L   ]     210000000.000000   5.00000000000000e-6           0          \n",
      "===================================================================================\n",
      "\n",
      "\n",
      "                                Exterior Reactions                                 \n",
      "===================================================================================\n",
      "           Point                       Type                        Value           \n",
      "-----------------------------------------------------------------------------------\n",
      "             0                         Force                     L*P/8 - P         \n",
      "             0                        Moment                L**2*P/24 - 3*L*P/2    \n",
      "           3*L/4                       Force                        2*P            \n",
      "===================================================================================\n",
      "\n",
      "\n",
      "                                  Internal Loads                                   \n",
      "===================================================================================\n",
      "        Span          Diagram                       Expression                    \n",
      "-----------------------------------------------------------------------------------\n",
      " [   0   -  L/4  ]      V(x)                P*(8 - L)/8 + P*x**2/(2*L)            \n",
      " [   0   -  L/4  ]      M(x)      L*P*(36 - L)/24 + x*(L*P/8 - P) - P*x**3/(6*L)  \n",
      "-----------------------------------------------------------------------------------\n",
      " [  L/4  -  L/2  ]      V(x)                P*(8 - L)/8 + P*x**2/(2*L)            \n",
      " [  L/4  -  L/2  ]      M(x)      L*P*(12 - L)/24 + x*(L*P/8 - P) - P*x**3/(6*L)  \n",
      "-----------------------------------------------------------------------------------\n",
      " [  L/2  - 3*L/4 ]      V(x)                            P                         \n",
      " [  L/2  - 3*L/4 ]      M(x)                       L*P/2 - P*x                    \n",
      "-----------------------------------------------------------------------------------\n",
      " [ 3*L/4 -   L   ]      V(x)                            -P                        \n",
      " [ 3*L/4 -   L   ]      M(x)                        -L*P + P*x                    \n",
      "===================================================================================\n",
      "\n",
      "\n",
      "                              Rotation and deflection                              \n",
      "===================================================================================\n",
      "        Span          Variable                      Expression                    \n",
      "-----------------------------------------------------------------------------------\n",
      " [   0   -  L/4  ]      v(x)    x**3*(1.98412698412698e-5*L*P - 0.000158730158730159*P) + x**2*(-1.98412698412698e-5*L**2*P + 0.000714285714285714*L*P) - 7.93650793650794e-6*P*x**5/L\n",
      " [   0   -  L/4  ]    dv/dx(x)  x**2*(5.95238095238095e-5*L*P - 0.000476190476190476*P) + x*(-3.96825396825397e-5*L**2*P + 0.00142857142857143*L*P) - 3.96825396825397e-5*P*x**4/L\n",
      "-----------------------------------------------------------------------------------\n",
      " [  L/4  -  L/2  ]      v(x)    -2.97619047619048e-5*L**3*P + 0.000238095238095238*L**2*P*x + x**3*(1.98412698412698e-5*L*P - 0.000158730158730159*P) + x**2*(-1.98412698412698e-5*L**2*P + 0.000238095238095238*L*P) - 7.93650793650794e-6*P*x**5/L\n",
      " [  L/4  -  L/2  ]    dv/dx(x)  0.000238095238095238*L**2*P + x**2*(5.95238095238095e-5*L*P - 0.000476190476190476*P) + x*(-3.96825396825397e-5*L**2*P + 0.000476190476190476*L*P) - 3.96825396825397e-5*P*x**4/L\n",
      "-----------------------------------------------------------------------------------\n",
      " [  L/2  - 3*L/4 ]      v(x)    -8.18452380952381e-6*L**4*P + 0.000401785714285714*L**3*P + 0.000238095238095238*L*P*x**2 - 0.000158730158730159*P*x**3 + 1.0*x*(1.09126984126984e-5*L**3*P - 0.000625*L**2*P)\n",
      " [  L/2  - 3*L/4 ]    dv/dx(x)  1.09126984126984e-5*L**3*P - 0.000625*L**2*P + 0.000476190476190476*L*P*x - 0.000476190476190476*P*x**2\n",
      "-----------------------------------------------------------------------------------\n",
      " [ 3*L/4 -   L   ]      v(x)    -8.18452380952381e-6*L**4*P + 0.000267857142857143*L**3*P - 0.000476190476190476*L*P*x**2 + 0.000158730158730159*P*x**3 + 1.0*x*(1.09126984126984e-5*L**3*P - 8.92857142857143e-5*L**2*P)\n",
      " [ 3*L/4 -   L   ]    dv/dx(x)  1.09126984126984e-5*L**3*P - 8.92857142857143e-5*L**2*P - 0.000952380952380952*L*P*x + 0.000476190476190476*P*x**2\n",
      "===================================================================================\n",
      "\n"
     ]
    }
   ],
   "source": [
    "new.solve()"
   ]
  },
  {
   "cell_type": "code",
   "execution_count": 4,
   "metadata": {
    "colab": {
     "base_uri": "https://localhost:8080/",
     "height": 874
    },
    "executionInfo": {
     "elapsed": 2223,
     "status": "ok",
     "timestamp": 1696808242090,
     "user": {
      "displayName": "Thomas Dwyer",
      "userId": "14201548677665955615"
     },
     "user_tz": 420
    },
    "id": "IcNGLQ1NrwkR",
    "outputId": "edacc153-bfbf-4d6e-962f-33cf203afd93"
   },
   "outputs": [
    {
     "data": {
      "text/plain": [
       "(<Figure size 504x576 with 4 Axes>,\n",
       " [<Axes: >,\n",
       "  <Axes: ylabel='Shear force, $V(x)$'>,\n",
       "  <Axes: ylabel='Bending moment, $M(x)$'>,\n",
       "  <Axes: xlabel='Coordinate, $x$', ylabel='Deflection, $v(x)$'>])"
      ]
     },
     "execution_count": 4,
     "metadata": {},
     "output_type": "execute_result"
    },
    {
     "data": {
      "image/png": "[encoded data removed]",
      "text/plain": [
       "<Figure size 504x576 with 4 Axes>"
      ]
     },
     "metadata": {
      "needs_background": "light"
     },
     "output_type": "display_data"
    }
   ],
   "source": [
    "new.plot()"
   ]
  }
 ],
 "metadata": {
  "colab": {
   "provenance": [
    {
     "file_id": "1maYGjeQWin9-RsUCTo6JJULJ2eVNX1pr",
     "timestamp": 1696784404968
    }
   ],
   "toc_visible": true
  },
  "kernelspec": {
   "display_name": "Python 3",
   "language": "python",
   "name": "python3"
  },
  "language_info": {
   "codemirror_mode": {
    "name": "ipython",
    "version": 3
   },
   "file_extension": ".py",
   "mimetype": "text/x-python",
   "name": "python",
   "nbconvert_exporter": "python",
   "pygments_lexer": "ipython3",
   "version": "3.9.13"
  },
  "widgets": {
   "application/vnd.jupyter.widget-state+json": {
    "state": {},
    "version_major": 2,
    "version_minor": 0
   }
  }
 },
 "nbformat": 4,
 "nbformat_minor": 4
}
